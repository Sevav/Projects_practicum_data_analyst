{
 "cells": [
  {
   "cell_type": "markdown",
   "id": "17a6eb47",
   "metadata": {},
   "source": [
    "# Проект: Исследование сервиса аренды самокатов GoFast"
   ]
  },
  {
   "cell_type": "markdown",
   "id": "765b7fee",
   "metadata": {},
   "source": [
    "Вы аналитик популярного сервиса аренды самокатов GoFast. Вам передали данные о некоторых пользователях из нескольких городов, а также об их поездках. Проанализируйте данные и проверьте некоторые гипотезы, которые могут помочь бизнесу вырасти.\n",
    "Чтобы совершать поездки по городу, пользователи сервиса GoFast пользуются мобильным приложением. Сервисом можно пользоваться:  \n",
    "\n",
    "**без подписки**  \n",
    " - абонентская плата отсутствует;  \n",
    " - стоимость одной минуты поездки — 8 рублей;  \n",
    " - стоимость старта (начала поездки) — 50 рублей;\n",
    "   \n",
    "**с подпиской Ultra**  \n",
    " - абонентская плата — 199 рублей в месяц;  \n",
    " - стоимость одной минуты поездки — 6 рублей;  \n",
    " - стоимость старта — бесплатно.\n",
    "\n",
    "#### Описание данных\n",
    "В основных данных есть информация о пользователях, их поездках и подписках.  \n",
    "\n",
    "**Пользователи** — `users_go.csv`  \n",
    "\n",
    "`user_id` - уникальный идентификатор пользователя  \n",
    "`name` - имя пользователя  \n",
    "`age` - возраст  \n",
    "`city` - город  \n",
    "`subscription_type` - тип подписки (free, ultra)  \n",
    "\n",
    "**Поездки** — `rides_go.csv`  \n",
    "\n",
    "`user_id` - уникальный идентификатор пользователя  \n",
    "`distance` - расстояние, которое пользователь проехал в текущей сессии (в метрах)  \n",
    "`duration` - продолжительность сессии (в минутах) — время с того момента, как пользователь нажал кнопку «Начать поездку» до момента, как он нажал кнопку «Завершить поездку»  \n",
    "`date` - дата совершения поездки  \n",
    "\n",
    "**Подписки** — `subscriptions_go.csv`  \n",
    "\n",
    "`subscription_type` - тип подписки  \n",
    "`minute_price` - стоимость одной минуты поездки по данной подписке  \n",
    "`start_ride_price` - стоимость начала поездки  \n",
    "`subscription_fee` - стоимость ежемесячного платежа"
   ]
  },
  {
   "cell_type": "code",
   "execution_count": 1,
   "id": "c8b79895",
   "metadata": {},
   "outputs": [],
   "source": [
    "import pandas as pd\n",
    "import matplotlib.pyplot as plt\n",
    "import numpy as np\n",
    "from scipy import stats as st\n",
    "\n",
    "pd.options.display.max_columns = 50"
   ]
  },
  {
   "cell_type": "markdown",
   "id": "c42cbe00",
   "metadata": {},
   "source": [
    "#### Шаг 1. Загрузка данных"
   ]
  },
  {
   "cell_type": "code",
   "execution_count": 2,
   "id": "eff9f206",
   "metadata": {},
   "outputs": [
    {
     "data": {
      "text/html": [
       "<div>\n",
       "<style scoped>\n",
       "    .dataframe tbody tr th:only-of-type {\n",
       "        vertical-align: middle;\n",
       "    }\n",
       "\n",
       "    .dataframe tbody tr th {\n",
       "        vertical-align: top;\n",
       "    }\n",
       "\n",
       "    .dataframe thead th {\n",
       "        text-align: right;\n",
       "    }\n",
       "</style>\n",
       "<table border=\"1\" class=\"dataframe\">\n",
       "  <thead>\n",
       "    <tr style=\"text-align: right;\">\n",
       "      <th></th>\n",
       "      <th>user_id</th>\n",
       "      <th>name</th>\n",
       "      <th>age</th>\n",
       "      <th>city</th>\n",
       "      <th>subscription_type</th>\n",
       "    </tr>\n",
       "  </thead>\n",
       "  <tbody>\n",
       "    <tr>\n",
       "      <th>0</th>\n",
       "      <td>1</td>\n",
       "      <td>Кира</td>\n",
       "      <td>22</td>\n",
       "      <td>Тюмень</td>\n",
       "      <td>ultra</td>\n",
       "    </tr>\n",
       "    <tr>\n",
       "      <th>1</th>\n",
       "      <td>2</td>\n",
       "      <td>Станислав</td>\n",
       "      <td>31</td>\n",
       "      <td>Омск</td>\n",
       "      <td>ultra</td>\n",
       "    </tr>\n",
       "    <tr>\n",
       "      <th>2</th>\n",
       "      <td>3</td>\n",
       "      <td>Алексей</td>\n",
       "      <td>20</td>\n",
       "      <td>Москва</td>\n",
       "      <td>ultra</td>\n",
       "    </tr>\n",
       "    <tr>\n",
       "      <th>3</th>\n",
       "      <td>4</td>\n",
       "      <td>Константин</td>\n",
       "      <td>26</td>\n",
       "      <td>Ростов-на-Дону</td>\n",
       "      <td>ultra</td>\n",
       "    </tr>\n",
       "    <tr>\n",
       "      <th>4</th>\n",
       "      <td>5</td>\n",
       "      <td>Адель</td>\n",
       "      <td>28</td>\n",
       "      <td>Омск</td>\n",
       "      <td>ultra</td>\n",
       "    </tr>\n",
       "  </tbody>\n",
       "</table>\n",
       "</div>"
      ],
      "text/plain": [
       "   user_id        name  age            city subscription_type\n",
       "0        1        Кира   22          Тюмень             ultra\n",
       "1        2   Станислав   31            Омск             ultra\n",
       "2        3     Алексей   20          Москва             ultra\n",
       "3        4  Константин   26  Ростов-на-Дону             ultra\n",
       "4        5       Адель   28            Омск             ultra"
      ]
     },
     "execution_count": 2,
     "metadata": {},
     "output_type": "execute_result"
    }
   ],
   "source": [
    "try:\n",
    "    data_users = pd.read_csv('/datasets/users_go.csv')\n",
    "except:\n",
    "    data_users = pd.read_csv('users_go.csv')\n",
    "    \n",
    "data_users.head()"
   ]
  },
  {
   "cell_type": "code",
   "execution_count": 3,
   "id": "dff91e28",
   "metadata": {},
   "outputs": [
    {
     "data": {
      "text/html": [
       "<div>\n",
       "<style scoped>\n",
       "    .dataframe tbody tr th:only-of-type {\n",
       "        vertical-align: middle;\n",
       "    }\n",
       "\n",
       "    .dataframe tbody tr th {\n",
       "        vertical-align: top;\n",
       "    }\n",
       "\n",
       "    .dataframe thead th {\n",
       "        text-align: right;\n",
       "    }\n",
       "</style>\n",
       "<table border=\"1\" class=\"dataframe\">\n",
       "  <thead>\n",
       "    <tr style=\"text-align: right;\">\n",
       "      <th></th>\n",
       "      <th>user_id</th>\n",
       "      <th>distance</th>\n",
       "      <th>duration</th>\n",
       "      <th>date</th>\n",
       "    </tr>\n",
       "  </thead>\n",
       "  <tbody>\n",
       "    <tr>\n",
       "      <th>0</th>\n",
       "      <td>1</td>\n",
       "      <td>4409.919140</td>\n",
       "      <td>25.599769</td>\n",
       "      <td>2021-01-01</td>\n",
       "    </tr>\n",
       "    <tr>\n",
       "      <th>1</th>\n",
       "      <td>1</td>\n",
       "      <td>2617.592153</td>\n",
       "      <td>15.816871</td>\n",
       "      <td>2021-01-18</td>\n",
       "    </tr>\n",
       "    <tr>\n",
       "      <th>2</th>\n",
       "      <td>1</td>\n",
       "      <td>754.159807</td>\n",
       "      <td>6.232113</td>\n",
       "      <td>2021-04-20</td>\n",
       "    </tr>\n",
       "    <tr>\n",
       "      <th>3</th>\n",
       "      <td>1</td>\n",
       "      <td>2694.783254</td>\n",
       "      <td>18.511000</td>\n",
       "      <td>2021-08-11</td>\n",
       "    </tr>\n",
       "    <tr>\n",
       "      <th>4</th>\n",
       "      <td>1</td>\n",
       "      <td>4028.687306</td>\n",
       "      <td>26.265803</td>\n",
       "      <td>2021-08-28</td>\n",
       "    </tr>\n",
       "  </tbody>\n",
       "</table>\n",
       "</div>"
      ],
      "text/plain": [
       "   user_id     distance   duration        date\n",
       "0        1  4409.919140  25.599769  2021-01-01\n",
       "1        1  2617.592153  15.816871  2021-01-18\n",
       "2        1   754.159807   6.232113  2021-04-20\n",
       "3        1  2694.783254  18.511000  2021-08-11\n",
       "4        1  4028.687306  26.265803  2021-08-28"
      ]
     },
     "execution_count": 3,
     "metadata": {},
     "output_type": "execute_result"
    }
   ],
   "source": [
    "try:\n",
    "    data_riders = pd.read_csv('/datasets/rides_go.csv')\n",
    "except:\n",
    "    data_riders = pd.read_csv('rides_go.csv')\n",
    "    \n",
    "data_riders.head()"
   ]
  },
  {
   "cell_type": "code",
   "execution_count": 4,
   "id": "5e33684a",
   "metadata": {},
   "outputs": [
    {
     "data": {
      "text/html": [
       "<div>\n",
       "<style scoped>\n",
       "    .dataframe tbody tr th:only-of-type {\n",
       "        vertical-align: middle;\n",
       "    }\n",
       "\n",
       "    .dataframe tbody tr th {\n",
       "        vertical-align: top;\n",
       "    }\n",
       "\n",
       "    .dataframe thead th {\n",
       "        text-align: right;\n",
       "    }\n",
       "</style>\n",
       "<table border=\"1\" class=\"dataframe\">\n",
       "  <thead>\n",
       "    <tr style=\"text-align: right;\">\n",
       "      <th></th>\n",
       "      <th>subscription_type</th>\n",
       "      <th>minute_price</th>\n",
       "      <th>start_ride_price</th>\n",
       "      <th>subscription_fee</th>\n",
       "    </tr>\n",
       "  </thead>\n",
       "  <tbody>\n",
       "    <tr>\n",
       "      <th>0</th>\n",
       "      <td>free</td>\n",
       "      <td>8</td>\n",
       "      <td>50</td>\n",
       "      <td>0</td>\n",
       "    </tr>\n",
       "    <tr>\n",
       "      <th>1</th>\n",
       "      <td>ultra</td>\n",
       "      <td>6</td>\n",
       "      <td>0</td>\n",
       "      <td>199</td>\n",
       "    </tr>\n",
       "  </tbody>\n",
       "</table>\n",
       "</div>"
      ],
      "text/plain": [
       "  subscription_type  minute_price  start_ride_price  subscription_fee\n",
       "0              free             8                50                 0\n",
       "1             ultra             6                 0               199"
      ]
     },
     "execution_count": 4,
     "metadata": {},
     "output_type": "execute_result"
    }
   ],
   "source": [
    "try:\n",
    "    data_subscriptions = pd.read_csv('/datasets/subscriptions_go.csv')\n",
    "except:\n",
    "    data_subscriptions = pd.read_csv('subscriptions_go.csv')\n",
    "    \n",
    "data_subscriptions.head()"
   ]
  },
  {
   "cell_type": "code",
   "execution_count": 5,
   "id": "ed6ab1e7",
   "metadata": {},
   "outputs": [
    {
     "name": "stdout",
     "output_type": "stream",
     "text": [
      "<class 'pandas.core.frame.DataFrame'>\n",
      "RangeIndex: 1565 entries, 0 to 1564\n",
      "Data columns (total 5 columns):\n",
      " #   Column             Non-Null Count  Dtype \n",
      "---  ------             --------------  ----- \n",
      " 0   user_id            1565 non-null   int64 \n",
      " 1   name               1565 non-null   object\n",
      " 2   age                1565 non-null   int64 \n",
      " 3   city               1565 non-null   object\n",
      " 4   subscription_type  1565 non-null   object\n",
      "dtypes: int64(2), object(3)\n",
      "memory usage: 61.3+ KB\n"
     ]
    }
   ],
   "source": [
    "data_users.info()"
   ]
  },
  {
   "cell_type": "code",
   "execution_count": 6,
   "id": "cf5b4339",
   "metadata": {},
   "outputs": [
    {
     "name": "stdout",
     "output_type": "stream",
     "text": [
      "<class 'pandas.core.frame.DataFrame'>\n",
      "RangeIndex: 18068 entries, 0 to 18067\n",
      "Data columns (total 4 columns):\n",
      " #   Column    Non-Null Count  Dtype  \n",
      "---  ------    --------------  -----  \n",
      " 0   user_id   18068 non-null  int64  \n",
      " 1   distance  18068 non-null  float64\n",
      " 2   duration  18068 non-null  float64\n",
      " 3   date      18068 non-null  object \n",
      "dtypes: float64(2), int64(1), object(1)\n",
      "memory usage: 564.8+ KB\n"
     ]
    }
   ],
   "source": [
    "data_riders.info()"
   ]
  },
  {
   "cell_type": "code",
   "execution_count": 7,
   "id": "868c82bd",
   "metadata": {},
   "outputs": [
    {
     "name": "stdout",
     "output_type": "stream",
     "text": [
      "<class 'pandas.core.frame.DataFrame'>\n",
      "RangeIndex: 2 entries, 0 to 1\n",
      "Data columns (total 4 columns):\n",
      " #   Column             Non-Null Count  Dtype \n",
      "---  ------             --------------  ----- \n",
      " 0   subscription_type  2 non-null      object\n",
      " 1   minute_price       2 non-null      int64 \n",
      " 2   start_ride_price   2 non-null      int64 \n",
      " 3   subscription_fee   2 non-null      int64 \n",
      "dtypes: int64(3), object(1)\n",
      "memory usage: 192.0+ bytes\n"
     ]
    }
   ],
   "source": [
    "data_subscriptions.info()"
   ]
  },
  {
   "cell_type": "markdown",
   "id": "d561eb38",
   "metadata": {},
   "source": [
    "**Вывод**  \n",
    "\n",
    "Вывели первые строки каждой таблицы. Посмотрели с помощью инфо информацию о датафреймах. Пропусков нет, с наименованием столбцов все впорядке, типы данных верные, кроме столбца `date` таблицы `data_riders`, исправим тип данных далее."
   ]
  },
  {
   "cell_type": "markdown",
   "id": "e95ebca7",
   "metadata": {},
   "source": [
    "#### Шаг 2. Предобработка данных"
   ]
  },
  {
   "cell_type": "markdown",
   "id": "592d1b58",
   "metadata": {},
   "source": [
    "Приведем столбец date к типу даты pandas"
   ]
  },
  {
   "cell_type": "code",
   "execution_count": 8,
   "id": "93799582",
   "metadata": {},
   "outputs": [],
   "source": [
    "data_riders['date'] = pd.to_datetime(data_riders['date'], format='%Y-%m-%dT%H:%M:%S')"
   ]
  },
  {
   "cell_type": "markdown",
   "id": "138032ea",
   "metadata": {},
   "source": [
    "Создадим новый столбец с номером месяца на основе столбца date."
   ]
  },
  {
   "cell_type": "code",
   "execution_count": 9,
   "id": "1fc31592",
   "metadata": {},
   "outputs": [],
   "source": [
    "data_riders['date_month'] = data_riders['date'].dt.month"
   ]
  },
  {
   "cell_type": "markdown",
   "id": "23068036",
   "metadata": {},
   "source": [
    "Проверим датафреймы на наличие пропусков и дубликатов"
   ]
  },
  {
   "cell_type": "code",
   "execution_count": 10,
   "id": "603e8fea",
   "metadata": {},
   "outputs": [
    {
     "data": {
      "text/plain": [
       "user_id              0\n",
       "name                 0\n",
       "age                  0\n",
       "city                 0\n",
       "subscription_type    0\n",
       "dtype: int64"
      ]
     },
     "execution_count": 10,
     "metadata": {},
     "output_type": "execute_result"
    }
   ],
   "source": [
    "data_users.isna().sum()"
   ]
  },
  {
   "cell_type": "code",
   "execution_count": 11,
   "id": "6aa7929f",
   "metadata": {},
   "outputs": [
    {
     "data": {
      "text/plain": [
       "user_id       0\n",
       "distance      0\n",
       "duration      0\n",
       "date          0\n",
       "date_month    0\n",
       "dtype: int64"
      ]
     },
     "execution_count": 11,
     "metadata": {},
     "output_type": "execute_result"
    }
   ],
   "source": [
    "data_riders.isna().sum()"
   ]
  },
  {
   "cell_type": "code",
   "execution_count": 12,
   "id": "46d137f7",
   "metadata": {},
   "outputs": [
    {
     "data": {
      "text/plain": [
       "subscription_type    0\n",
       "minute_price         0\n",
       "start_ride_price     0\n",
       "subscription_fee     0\n",
       "dtype: int64"
      ]
     },
     "execution_count": 12,
     "metadata": {},
     "output_type": "execute_result"
    }
   ],
   "source": [
    "data_subscriptions.isna().sum()"
   ]
  },
  {
   "cell_type": "code",
   "execution_count": 13,
   "id": "d1d0eadd",
   "metadata": {},
   "outputs": [
    {
     "data": {
      "text/plain": [
       "31"
      ]
     },
     "execution_count": 13,
     "metadata": {},
     "output_type": "execute_result"
    }
   ],
   "source": [
    "data_users.duplicated().sum()"
   ]
  },
  {
   "cell_type": "code",
   "execution_count": 14,
   "id": "6ca9d5bb",
   "metadata": {},
   "outputs": [
    {
     "data": {
      "text/plain": [
       "0"
      ]
     },
     "execution_count": 14,
     "metadata": {},
     "output_type": "execute_result"
    }
   ],
   "source": [
    "data_riders.duplicated().sum()"
   ]
  },
  {
   "cell_type": "code",
   "execution_count": 15,
   "id": "ac0b18a8",
   "metadata": {},
   "outputs": [
    {
     "data": {
      "text/plain": [
       "0"
      ]
     },
     "execution_count": 15,
     "metadata": {},
     "output_type": "execute_result"
    }
   ],
   "source": [
    "data_subscriptions.duplicated().sum()"
   ]
  },
  {
   "cell_type": "markdown",
   "id": "6b308956",
   "metadata": {},
   "source": [
    "Избавимся от дубликатов"
   ]
  },
  {
   "cell_type": "code",
   "execution_count": 16,
   "id": "b8a10acf",
   "metadata": {},
   "outputs": [],
   "source": [
    "data_users = data_users.drop_duplicates()"
   ]
  },
  {
   "cell_type": "markdown",
   "id": "77cf0cb1",
   "metadata": {},
   "source": [
    "Проверим"
   ]
  },
  {
   "cell_type": "code",
   "execution_count": 17,
   "id": "eda333c3",
   "metadata": {},
   "outputs": [
    {
     "data": {
      "text/plain": [
       "0"
      ]
     },
     "execution_count": 17,
     "metadata": {},
     "output_type": "execute_result"
    }
   ],
   "source": [
    "data_users.duplicated().sum()"
   ]
  },
  {
   "cell_type": "markdown",
   "id": "42fede1a",
   "metadata": {},
   "source": [
    "**Вывод**\n",
    "\n",
    "Загрузили и рассмотрели данные.\n",
    "\n",
    "Пропусков в данных нет, избавились от дубликатов в датафрейме `data_users`, изменили тип данных в колонке `'date'` датафрейма `data_riders`, добавили новую колонку с месяцами в датафрейм `data_riders`"
   ]
  },
  {
   "cell_type": "markdown",
   "id": "212593c7",
   "metadata": {},
   "source": [
    "#### Шаг 3. Исследовательский анализ данных"
   ]
  },
  {
   "cell_type": "markdown",
   "id": "b116642c",
   "metadata": {},
   "source": [
    "Посмотрим и визуализируем информацию о частоте встречаемости городов"
   ]
  },
  {
   "cell_type": "code",
   "execution_count": 18,
   "id": "e8269684",
   "metadata": {},
   "outputs": [
    {
     "data": {
      "text/plain": [
       "Пятигорск         219\n",
       "Екатеринбург      204\n",
       "Ростов-на-Дону    198\n",
       "Краснодар         193\n",
       "Сочи              189\n",
       "Омск              183\n",
       "Тюмень            180\n",
       "Москва            168\n",
       "Name: city, dtype: int64"
      ]
     },
     "execution_count": 18,
     "metadata": {},
     "output_type": "execute_result"
    }
   ],
   "source": [
    "count_city = data_users['city'].value_counts()\n",
    "count_city"
   ]
  },
  {
   "cell_type": "code",
   "execution_count": 19,
   "id": "c84f7f96",
   "metadata": {},
   "outputs": [
    {
     "data": {
      "image/png": "[encoded data removed]",
      "text/plain": [
       "<Figure size 500x500 with 1 Axes>"
      ]
     },
     "metadata": {},
     "output_type": "display_data"
    }
   ],
   "source": [
    "data_users['city'].value_counts().plot(\n",
    "    kind='bar',\n",
    "    y = count_city,\n",
    "    figsize = (5,5),\n",
    "    title = 'Соотношение пользователей по городам',\n",
    "    xlabel = 'Город',\n",
    "    ylabel = 'Количество пользователей'\n",
    ");"
   ]
  },
  {
   "cell_type": "markdown",
   "id": "f2d641e3",
   "metadata": {},
   "source": [
    "Посмотрим и визуализируем соотношение пользователей с подпиской и без подписки"
   ]
  },
  {
   "cell_type": "code",
   "execution_count": 20,
   "id": "19a97918",
   "metadata": {},
   "outputs": [
    {
     "data": {
      "text/plain": [
       "free     835\n",
       "ultra    699\n",
       "Name: subscription_type, dtype: int64"
      ]
     },
     "execution_count": 20,
     "metadata": {},
     "output_type": "execute_result"
    }
   ],
   "source": [
    "count_subscription = data_users['subscription_type'].value_counts()\n",
    "count_subscription"
   ]
  },
  {
   "cell_type": "code",
   "execution_count": 21,
   "id": "607f91dd",
   "metadata": {},
   "outputs": [
    {
     "data": {
      "image/png": "[encoded data removed]",
      "text/plain": [
       "<Figure size 400x400 with 1 Axes>"
      ]
     },
     "metadata": {},
     "output_type": "display_data"
    }
   ],
   "source": [
    "data_users['subscription_type'].value_counts().plot(\n",
    "    kind = 'pie', \n",
    "    y = count_subscription, \n",
    "    autopct = '%1.0f%%', \n",
    "    figsize = (4,4),\n",
    "    title = 'Процентное соотношение пользователей в зависимости от подписки');"
   ]
  },
  {
   "cell_type": "markdown",
   "id": "8556a7e5",
   "metadata": {},
   "source": [
    "Посмотрим и визуализируем возраст пользователей"
   ]
  },
  {
   "cell_type": "code",
   "execution_count": 22,
   "id": "ee0b2eb9",
   "metadata": {},
   "outputs": [
    {
     "data": {
      "text/plain": [
       "array([22, 31, 20, 26, 28, 25, 23, 21, 18, 27, 24, 29, 32, 14, 19, 30, 17,\n",
       "       12, 35, 33, 13, 15, 37, 16, 34, 38, 36, 39, 43], dtype=int64)"
      ]
     },
     "execution_count": 22,
     "metadata": {},
     "output_type": "execute_result"
    }
   ],
   "source": [
    "data_users['age'].unique()"
   ]
  },
  {
   "cell_type": "code",
   "execution_count": 23,
   "id": "926fce3f",
   "metadata": {},
   "outputs": [
    {
     "data": {
      "image/png": "[encoded data removed]",
      "text/plain": [
       "<Figure size 640x480 with 1 Axes>"
      ]
     },
     "metadata": {},
     "output_type": "display_data"
    }
   ],
   "source": [
    "plt.hist(data_users['age'], bins=10)\n",
    "plt.title('Соотношение возраста пользователей')\n",
    "plt.ylabel('Количество пользователей')\n",
    "plt.xlabel('Возраст пользователей')\n",
    "plt.grid()\n",
    "plt.show();"
   ]
  },
  {
   "cell_type": "markdown",
   "id": "bd4b0dcd",
   "metadata": {},
   "source": [
    "**Расстояние и время поездок пользователей**"
   ]
  },
  {
   "cell_type": "markdown",
   "id": "efa20870",
   "metadata": {},
   "source": [
    "Посмотрим на таблицу с расстояниями и временем для всех пользователей"
   ]
  },
  {
   "cell_type": "code",
   "execution_count": 24,
   "id": "cc539c79",
   "metadata": {},
   "outputs": [
    {
     "data": {
      "text/html": [
       "<div>\n",
       "<style scoped>\n",
       "    .dataframe tbody tr th:only-of-type {\n",
       "        vertical-align: middle;\n",
       "    }\n",
       "\n",
       "    .dataframe tbody tr th {\n",
       "        vertical-align: top;\n",
       "    }\n",
       "\n",
       "    .dataframe thead th {\n",
       "        text-align: right;\n",
       "    }\n",
       "</style>\n",
       "<table border=\"1\" class=\"dataframe\">\n",
       "  <thead>\n",
       "    <tr style=\"text-align: right;\">\n",
       "      <th></th>\n",
       "      <th>user_id</th>\n",
       "      <th>distance</th>\n",
       "      <th>duration</th>\n",
       "      <th>date</th>\n",
       "      <th>date_month</th>\n",
       "    </tr>\n",
       "  </thead>\n",
       "  <tbody>\n",
       "    <tr>\n",
       "      <th>0</th>\n",
       "      <td>1</td>\n",
       "      <td>4409.919140</td>\n",
       "      <td>25.599769</td>\n",
       "      <td>2021-01-01</td>\n",
       "      <td>1</td>\n",
       "    </tr>\n",
       "    <tr>\n",
       "      <th>1</th>\n",
       "      <td>1</td>\n",
       "      <td>2617.592153</td>\n",
       "      <td>15.816871</td>\n",
       "      <td>2021-01-18</td>\n",
       "      <td>1</td>\n",
       "    </tr>\n",
       "    <tr>\n",
       "      <th>2</th>\n",
       "      <td>1</td>\n",
       "      <td>754.159807</td>\n",
       "      <td>6.232113</td>\n",
       "      <td>2021-04-20</td>\n",
       "      <td>4</td>\n",
       "    </tr>\n",
       "    <tr>\n",
       "      <th>3</th>\n",
       "      <td>1</td>\n",
       "      <td>2694.783254</td>\n",
       "      <td>18.511000</td>\n",
       "      <td>2021-08-11</td>\n",
       "      <td>8</td>\n",
       "    </tr>\n",
       "    <tr>\n",
       "      <th>4</th>\n",
       "      <td>1</td>\n",
       "      <td>4028.687306</td>\n",
       "      <td>26.265803</td>\n",
       "      <td>2021-08-28</td>\n",
       "      <td>8</td>\n",
       "    </tr>\n",
       "  </tbody>\n",
       "</table>\n",
       "</div>"
      ],
      "text/plain": [
       "   user_id     distance   duration       date  date_month\n",
       "0        1  4409.919140  25.599769 2021-01-01           1\n",
       "1        1  2617.592153  15.816871 2021-01-18           1\n",
       "2        1   754.159807   6.232113 2021-04-20           4\n",
       "3        1  2694.783254  18.511000 2021-08-11           8\n",
       "4        1  4028.687306  26.265803 2021-08-28           8"
      ]
     },
     "execution_count": 24,
     "metadata": {},
     "output_type": "execute_result"
    }
   ],
   "source": [
    "data_riders.head()"
   ]
  },
  {
   "cell_type": "markdown",
   "id": "381454e4",
   "metadata": {},
   "source": [
    "Посмотрим на общую дистанцию поездок для каждого пользователя"
   ]
  },
  {
   "cell_type": "code",
   "execution_count": 25,
   "id": "62e6d0fe",
   "metadata": {},
   "outputs": [
    {
     "data": {
      "text/plain": [
       "user_id\n",
       "1     34070.2\n",
       "2     33964.1\n",
       "3     36907.6\n",
       "4     44837.2\n",
       "5     35556.9\n",
       "6     34078.6\n",
       "7     48707.5\n",
       "8     15754.3\n",
       "9     23730.9\n",
       "10    29528.2\n",
       "Name: distance, dtype: float64"
      ]
     },
     "execution_count": 25,
     "metadata": {},
     "output_type": "execute_result"
    }
   ],
   "source": [
    "data_riders_duration = round(data_riders.groupby('user_id')['distance'].sum(), 1)\n",
    "data_riders_duration.head(10)"
   ]
  },
  {
   "cell_type": "markdown",
   "id": "25b4cc64",
   "metadata": {},
   "source": [
    "Посмотрим на минимальные расстояния, которое пользователь преодолел за одну поездку"
   ]
  },
  {
   "cell_type": "code",
   "execution_count": 26,
   "id": "8820f420",
   "metadata": {},
   "outputs": [
    {
     "data": {
      "text/plain": [
       "11555     0.86\n",
       "9541      2.57\n",
       "13690     4.33\n",
       "8658      6.78\n",
       "7841      7.10\n",
       "8906     11.28\n",
       "8324     12.23\n",
       "13940    15.00\n",
       "15626    15.37\n",
       "11862    15.63\n",
       "Name: distance, dtype: float64"
      ]
     },
     "execution_count": 26,
     "metadata": {},
     "output_type": "execute_result"
    }
   ],
   "source": [
    "round(data_riders['distance'].sort_values(), 2).head(10)"
   ]
  },
  {
   "cell_type": "markdown",
   "id": "5ddc53d6",
   "metadata": {},
   "source": [
    "Посмотрим на максимальные расстояния, которое пользователь преодолел за одну поездку"
   ]
  },
  {
   "cell_type": "code",
   "execution_count": 27,
   "id": "9ea8a4c7",
   "metadata": {},
   "outputs": [
    {
     "data": {
      "text/plain": [
       "16309    7211.0\n",
       "16484    7066.0\n",
       "15580    6908.5\n",
       "17171    6760.9\n",
       "17242    6724.9\n",
       "10341    6672.0\n",
       "11385    6601.2\n",
       "12086    6538.9\n",
       "10915    6535.4\n",
       "11319    6503.6\n",
       "Name: distance, dtype: float64"
      ]
     },
     "execution_count": 27,
     "metadata": {},
     "output_type": "execute_result"
    }
   ],
   "source": [
    "round(data_riders['distance'].sort_values(ascending=False), 1).head(10)"
   ]
  },
  {
   "cell_type": "markdown",
   "id": "f8c380a4",
   "metadata": {},
   "source": [
    "Построим гистограмму расстояний преодоленных пользователями"
   ]
  },
  {
   "cell_type": "code",
   "execution_count": 28,
   "id": "280c2359",
   "metadata": {},
   "outputs": [
    {
     "data": {
      "image/png": "[encoded data removed]",
      "text/plain": [
       "<Figure size 640x480 with 1 Axes>"
      ]
     },
     "metadata": {},
     "output_type": "display_data"
    }
   ],
   "source": [
    "plt.hist(data_riders['distance'], bins=50, range=(0, 7000))\n",
    "plt.title('Расстояние')\n",
    "plt.ylabel('Количество пользователей')\n",
    "plt.xlabel('Расстояние за одну поездку, м')\n",
    "plt.grid()\n",
    "plt.show();"
   ]
  },
  {
   "cell_type": "markdown",
   "id": "42ffb81c",
   "metadata": {},
   "source": [
    "**Продолжительность поездок пользователей**"
   ]
  },
  {
   "cell_type": "markdown",
   "id": "d032ab4c",
   "metadata": {},
   "source": [
    "Посмотрим на общее время поездок для каждого пользователя"
   ]
  },
  {
   "cell_type": "code",
   "execution_count": 29,
   "id": "4323b73d",
   "metadata": {},
   "outputs": [
    {
     "data": {
      "text/plain": [
       "user_id\n",
       "1     204.60\n",
       "2     197.64\n",
       "3     233.19\n",
       "4     288.56\n",
       "5     174.07\n",
       "6     203.30\n",
       "7     258.37\n",
       "8      90.68\n",
       "9     129.79\n",
       "10    171.86\n",
       "Name: duration, dtype: float64"
      ]
     },
     "execution_count": 29,
     "metadata": {},
     "output_type": "execute_result"
    }
   ],
   "source": [
    "data_riders_duration = round(data_riders.groupby('user_id')['duration'].sum(), 2)\n",
    "data_riders_duration.head(10)"
   ]
  },
  {
   "cell_type": "markdown",
   "id": "d41a259e",
   "metadata": {},
   "source": [
    "Посмотрим на самые короткие поездки"
   ]
  },
  {
   "cell_type": "code",
   "execution_count": 30,
   "id": "19a44fda",
   "metadata": {},
   "outputs": [
    {
     "data": {
      "text/plain": [
       "12013    0.5\n",
       "17314    0.5\n",
       "15029    0.5\n",
       "7437     0.5\n",
       "12967    0.5\n",
       "15015    0.5\n",
       "13012    0.5\n",
       "7508     0.5\n",
       "16589    0.5\n",
       "9049     0.5\n",
       "Name: duration, dtype: float64"
      ]
     },
     "execution_count": 30,
     "metadata": {},
     "output_type": "execute_result"
    }
   ],
   "source": [
    "data_riders['duration'].sort_values().head(10)"
   ]
  },
  {
   "cell_type": "markdown",
   "id": "0ed1fd1f",
   "metadata": {},
   "source": [
    "Посмотрим на самые длительные поездки"
   ]
  },
  {
   "cell_type": "code",
   "execution_count": 31,
   "id": "61f1f1c8",
   "metadata": {},
   "outputs": [
    {
     "data": {
      "text/plain": [
       "4215    40.8\n",
       "4709    39.9\n",
       "2623    39.5\n",
       "1998    38.4\n",
       "6453    38.3\n",
       "143     38.1\n",
       "3729    37.0\n",
       "499     36.9\n",
       "6348    36.8\n",
       "4653    36.6\n",
       "Name: duration, dtype: float64"
      ]
     },
     "execution_count": 31,
     "metadata": {},
     "output_type": "execute_result"
    }
   ],
   "source": [
    "round(data_riders['duration'].sort_values(ascending=False), 1).head(10)"
   ]
  },
  {
   "cell_type": "markdown",
   "id": "6a9e7057",
   "metadata": {},
   "source": [
    "Построим гистограмму времени проведенного пользователями в поездках"
   ]
  },
  {
   "cell_type": "code",
   "execution_count": 32,
   "id": "b7b5cee5",
   "metadata": {},
   "outputs": [
    {
     "data": {
      "image/png": "[encoded data removed]",
      "text/plain": [
       "<Figure size 640x480 with 1 Axes>"
      ]
     },
     "metadata": {},
     "output_type": "display_data"
    }
   ],
   "source": [
    "plt.hist(data_riders['duration'], bins=50)\n",
    "plt.title('Время проведенное в поездке')\n",
    "plt.ylabel('Количество пользователей')\n",
    "plt.xlabel('Время, минуты')\n",
    "plt.grid()\n",
    "plt.show();"
   ]
  },
  {
   "cell_type": "markdown",
   "id": "61d3f534",
   "metadata": {},
   "source": [
    "**Вывод**  \n",
    "\n",
    "**Частота встречаемости городов**  \n",
    "\n",
    "Количество пользователей по городам распределено примерно одинаково, нет сильно выделяющихся значений. Больше всего пользователей в Пятигорске - 219, меньше всего пользователей в Москве - 168. \n",
    "\n",
    "**Соотношение пользователей с подпиской и без подписки**  \n",
    "\n",
    "Пользователей, использующих бесплатную подписку больше, чем пользователей имеющих платную подписку, всего таких - 835 человек, это примерно 54% от общего числа пользователей. Пользователей имеющих платную подписку - 699 человек, это примерно 46%.  \n",
    "\n",
    "**Возраст пользователей**  \n",
    "\n",
    "Самыми младшими являются пользователи 12, 13 лет, самыми старшими - около 43 лет.  \n",
    "Основной контингент пользователей люди с возрастом от 20 до 30 лет.    \n",
    "\n",
    "**Расстояние, которое пользователь преодолел за одну поездку**  \n",
    "\n",
    "Самая короткая дистанция - 0.86 км. Самая длинная - 7.2 км  \n",
    "В основном пользователи проезжают от 2.4 км до 4 км.  \n",
    "\n",
    "**Продолжительность поездок**  \n",
    "\n",
    "Самые короткие поездки - пол минуты. Возможно пользователи передумали пользоваться самокатом, либо была какая-то техническая неисправность самоката.  \n",
    "Самая длинная поездка заняла около 40 минут.  \n",
    "В основном же длительность поездки состовляет 13 - 22 минуты."
   ]
  },
  {
   "cell_type": "markdown",
   "id": "4ef51331",
   "metadata": {},
   "source": [
    "#### Шаг 4. Объединение данных"
   ]
  },
  {
   "cell_type": "markdown",
   "id": "5d83654a",
   "metadata": {},
   "source": [
    "**Объединим данные о пользователях, поездках и подписках в один датафрейм**"
   ]
  },
  {
   "cell_type": "code",
   "execution_count": 33,
   "id": "4a2c60ae",
   "metadata": {},
   "outputs": [],
   "source": [
    "data_merge = data_users.merge(data_riders)"
   ]
  },
  {
   "cell_type": "code",
   "execution_count": 34,
   "id": "0bd0fed9",
   "metadata": {},
   "outputs": [],
   "source": [
    "data_merge = data_merge.merge(data_subscriptions)"
   ]
  },
  {
   "cell_type": "code",
   "execution_count": 35,
   "id": "10a36a16",
   "metadata": {},
   "outputs": [
    {
     "data": {
      "text/html": [
       "<div>\n",
       "<style scoped>\n",
       "    .dataframe tbody tr th:only-of-type {\n",
       "        vertical-align: middle;\n",
       "    }\n",
       "\n",
       "    .dataframe tbody tr th {\n",
       "        vertical-align: top;\n",
       "    }\n",
       "\n",
       "    .dataframe thead th {\n",
       "        text-align: right;\n",
       "    }\n",
       "</style>\n",
       "<table border=\"1\" class=\"dataframe\">\n",
       "  <thead>\n",
       "    <tr style=\"text-align: right;\">\n",
       "      <th></th>\n",
       "      <th>user_id</th>\n",
       "      <th>name</th>\n",
       "      <th>age</th>\n",
       "      <th>city</th>\n",
       "      <th>subscription_type</th>\n",
       "      <th>distance</th>\n",
       "      <th>duration</th>\n",
       "      <th>date</th>\n",
       "      <th>date_month</th>\n",
       "      <th>minute_price</th>\n",
       "      <th>start_ride_price</th>\n",
       "      <th>subscription_fee</th>\n",
       "    </tr>\n",
       "  </thead>\n",
       "  <tbody>\n",
       "    <tr>\n",
       "      <th>0</th>\n",
       "      <td>1</td>\n",
       "      <td>Кира</td>\n",
       "      <td>22</td>\n",
       "      <td>Тюмень</td>\n",
       "      <td>ultra</td>\n",
       "      <td>4409.919140</td>\n",
       "      <td>25.599769</td>\n",
       "      <td>2021-01-01</td>\n",
       "      <td>1</td>\n",
       "      <td>6</td>\n",
       "      <td>0</td>\n",
       "      <td>199</td>\n",
       "    </tr>\n",
       "    <tr>\n",
       "      <th>1</th>\n",
       "      <td>1</td>\n",
       "      <td>Кира</td>\n",
       "      <td>22</td>\n",
       "      <td>Тюмень</td>\n",
       "      <td>ultra</td>\n",
       "      <td>2617.592153</td>\n",
       "      <td>15.816871</td>\n",
       "      <td>2021-01-18</td>\n",
       "      <td>1</td>\n",
       "      <td>6</td>\n",
       "      <td>0</td>\n",
       "      <td>199</td>\n",
       "    </tr>\n",
       "    <tr>\n",
       "      <th>2</th>\n",
       "      <td>1</td>\n",
       "      <td>Кира</td>\n",
       "      <td>22</td>\n",
       "      <td>Тюмень</td>\n",
       "      <td>ultra</td>\n",
       "      <td>754.159807</td>\n",
       "      <td>6.232113</td>\n",
       "      <td>2021-04-20</td>\n",
       "      <td>4</td>\n",
       "      <td>6</td>\n",
       "      <td>0</td>\n",
       "      <td>199</td>\n",
       "    </tr>\n",
       "    <tr>\n",
       "      <th>3</th>\n",
       "      <td>1</td>\n",
       "      <td>Кира</td>\n",
       "      <td>22</td>\n",
       "      <td>Тюмень</td>\n",
       "      <td>ultra</td>\n",
       "      <td>2694.783254</td>\n",
       "      <td>18.511000</td>\n",
       "      <td>2021-08-11</td>\n",
       "      <td>8</td>\n",
       "      <td>6</td>\n",
       "      <td>0</td>\n",
       "      <td>199</td>\n",
       "    </tr>\n",
       "    <tr>\n",
       "      <th>4</th>\n",
       "      <td>1</td>\n",
       "      <td>Кира</td>\n",
       "      <td>22</td>\n",
       "      <td>Тюмень</td>\n",
       "      <td>ultra</td>\n",
       "      <td>4028.687306</td>\n",
       "      <td>26.265803</td>\n",
       "      <td>2021-08-28</td>\n",
       "      <td>8</td>\n",
       "      <td>6</td>\n",
       "      <td>0</td>\n",
       "      <td>199</td>\n",
       "    </tr>\n",
       "  </tbody>\n",
       "</table>\n",
       "</div>"
      ],
      "text/plain": [
       "   user_id  name  age    city subscription_type     distance   duration  \\\n",
       "0        1  Кира   22  Тюмень             ultra  4409.919140  25.599769   \n",
       "1        1  Кира   22  Тюмень             ultra  2617.592153  15.816871   \n",
       "2        1  Кира   22  Тюмень             ultra   754.159807   6.232113   \n",
       "3        1  Кира   22  Тюмень             ultra  2694.783254  18.511000   \n",
       "4        1  Кира   22  Тюмень             ultra  4028.687306  26.265803   \n",
       "\n",
       "        date  date_month  minute_price  start_ride_price  subscription_fee  \n",
       "0 2021-01-01           1             6                 0               199  \n",
       "1 2021-01-18           1             6                 0               199  \n",
       "2 2021-04-20           4             6                 0               199  \n",
       "3 2021-08-11           8             6                 0               199  \n",
       "4 2021-08-28           8             6                 0               199  "
      ]
     },
     "execution_count": 35,
     "metadata": {},
     "output_type": "execute_result"
    }
   ],
   "source": [
    "data_merge.head()"
   ]
  },
  {
   "cell_type": "code",
   "execution_count": 36,
   "id": "8f5e2ce2",
   "metadata": {},
   "outputs": [
    {
     "data": {
      "text/plain": [
       "(18068, 12)"
      ]
     },
     "execution_count": 36,
     "metadata": {},
     "output_type": "execute_result"
    }
   ],
   "source": [
    "data_merge.shape"
   ]
  },
  {
   "cell_type": "markdown",
   "id": "bc76783c",
   "metadata": {},
   "source": [
    "**Создадим датафрейм c данными о пользователях без подписки**"
   ]
  },
  {
   "cell_type": "code",
   "execution_count": 37,
   "id": "0b685821",
   "metadata": {},
   "outputs": [
    {
     "data": {
      "text/html": [
       "<div>\n",
       "<style scoped>\n",
       "    .dataframe tbody tr th:only-of-type {\n",
       "        vertical-align: middle;\n",
       "    }\n",
       "\n",
       "    .dataframe tbody tr th {\n",
       "        vertical-align: top;\n",
       "    }\n",
       "\n",
       "    .dataframe thead th {\n",
       "        text-align: right;\n",
       "    }\n",
       "</style>\n",
       "<table border=\"1\" class=\"dataframe\">\n",
       "  <thead>\n",
       "    <tr style=\"text-align: right;\">\n",
       "      <th></th>\n",
       "      <th>user_id</th>\n",
       "      <th>name</th>\n",
       "      <th>age</th>\n",
       "      <th>city</th>\n",
       "      <th>subscription_type</th>\n",
       "      <th>distance</th>\n",
       "      <th>duration</th>\n",
       "      <th>date</th>\n",
       "      <th>date_month</th>\n",
       "      <th>minute_price</th>\n",
       "      <th>start_ride_price</th>\n",
       "      <th>subscription_fee</th>\n",
       "    </tr>\n",
       "  </thead>\n",
       "  <tbody>\n",
       "    <tr>\n",
       "      <th>6500</th>\n",
       "      <td>700</td>\n",
       "      <td>Айдар</td>\n",
       "      <td>22</td>\n",
       "      <td>Омск</td>\n",
       "      <td>free</td>\n",
       "      <td>2515.690719</td>\n",
       "      <td>14.944286</td>\n",
       "      <td>2021-01-02</td>\n",
       "      <td>1</td>\n",
       "      <td>8</td>\n",
       "      <td>50</td>\n",
       "      <td>0</td>\n",
       "    </tr>\n",
       "    <tr>\n",
       "      <th>6501</th>\n",
       "      <td>700</td>\n",
       "      <td>Айдар</td>\n",
       "      <td>22</td>\n",
       "      <td>Омск</td>\n",
       "      <td>free</td>\n",
       "      <td>846.932642</td>\n",
       "      <td>16.234663</td>\n",
       "      <td>2021-02-01</td>\n",
       "      <td>2</td>\n",
       "      <td>8</td>\n",
       "      <td>50</td>\n",
       "      <td>0</td>\n",
       "    </tr>\n",
       "    <tr>\n",
       "      <th>6502</th>\n",
       "      <td>700</td>\n",
       "      <td>Айдар</td>\n",
       "      <td>22</td>\n",
       "      <td>Омск</td>\n",
       "      <td>free</td>\n",
       "      <td>4004.434142</td>\n",
       "      <td>20.016628</td>\n",
       "      <td>2021-02-04</td>\n",
       "      <td>2</td>\n",
       "      <td>8</td>\n",
       "      <td>50</td>\n",
       "      <td>0</td>\n",
       "    </tr>\n",
       "    <tr>\n",
       "      <th>6503</th>\n",
       "      <td>700</td>\n",
       "      <td>Айдар</td>\n",
       "      <td>22</td>\n",
       "      <td>Омск</td>\n",
       "      <td>free</td>\n",
       "      <td>1205.911290</td>\n",
       "      <td>9.782872</td>\n",
       "      <td>2021-02-10</td>\n",
       "      <td>2</td>\n",
       "      <td>8</td>\n",
       "      <td>50</td>\n",
       "      <td>0</td>\n",
       "    </tr>\n",
       "    <tr>\n",
       "      <th>6504</th>\n",
       "      <td>700</td>\n",
       "      <td>Айдар</td>\n",
       "      <td>22</td>\n",
       "      <td>Омск</td>\n",
       "      <td>free</td>\n",
       "      <td>3047.379435</td>\n",
       "      <td>17.427673</td>\n",
       "      <td>2021-02-14</td>\n",
       "      <td>2</td>\n",
       "      <td>8</td>\n",
       "      <td>50</td>\n",
       "      <td>0</td>\n",
       "    </tr>\n",
       "  </tbody>\n",
       "</table>\n",
       "</div>"
      ],
      "text/plain": [
       "      user_id   name  age  city subscription_type     distance   duration  \\\n",
       "6500      700  Айдар   22  Омск              free  2515.690719  14.944286   \n",
       "6501      700  Айдар   22  Омск              free   846.932642  16.234663   \n",
       "6502      700  Айдар   22  Омск              free  4004.434142  20.016628   \n",
       "6503      700  Айдар   22  Омск              free  1205.911290   9.782872   \n",
       "6504      700  Айдар   22  Омск              free  3047.379435  17.427673   \n",
       "\n",
       "           date  date_month  minute_price  start_ride_price  subscription_fee  \n",
       "6500 2021-01-02           1             8                50                 0  \n",
       "6501 2021-02-01           2             8                50                 0  \n",
       "6502 2021-02-04           2             8                50                 0  \n",
       "6503 2021-02-10           2             8                50                 0  \n",
       "6504 2021-02-14           2             8                50                 0  "
      ]
     },
     "execution_count": 37,
     "metadata": {},
     "output_type": "execute_result"
    }
   ],
   "source": [
    "data_merge_subscription_free = data_merge.loc[data_merge['subscription_type'] == 'free']\n",
    "data_merge_subscription_free.head()"
   ]
  },
  {
   "cell_type": "markdown",
   "id": "fceda64a",
   "metadata": {},
   "source": [
    "Построим график с преодоленным расстоянием пользователей без подписки"
   ]
  },
  {
   "cell_type": "code",
   "execution_count": 38,
   "id": "e48b7be8",
   "metadata": {},
   "outputs": [
    {
     "data": {
      "image/png": "[encoded data removed]",
      "text/plain": [
       "<Figure size 640x480 with 1 Axes>"
      ]
     },
     "metadata": {},
     "output_type": "display_data"
    }
   ],
   "source": [
    "plt.hist(data_merge_subscription_free['distance'], bins=50, range=(0, 7000))\n",
    "plt.title('Пользователи без подписки')\n",
    "plt.ylabel('Количество пользователей')\n",
    "plt.xlabel('Расстояние, м')\n",
    "plt.grid()\n",
    "plt.show();"
   ]
  },
  {
   "cell_type": "markdown",
   "id": "092d93a9",
   "metadata": {},
   "source": [
    "Построим график с временем поездки пользователей без подписки"
   ]
  },
  {
   "cell_type": "code",
   "execution_count": 39,
   "id": "7b62270b",
   "metadata": {},
   "outputs": [
    {
     "data": {
      "image/png": "[encoded data removed]",
      "text/plain": [
       "<Figure size 640x480 with 1 Axes>"
      ]
     },
     "metadata": {},
     "output_type": "display_data"
    }
   ],
   "source": [
    "plt.hist(data_merge_subscription_free['duration'], bins=30, range=(0, 40))\n",
    "plt.title('Пользователи без подписки')\n",
    "plt.ylabel('Количество пользователей')\n",
    "plt.xlabel('Время поездки, минуты')\n",
    "plt.grid()\n",
    "plt.show();"
   ]
  },
  {
   "cell_type": "markdown",
   "id": "41173b34",
   "metadata": {},
   "source": [
    "**Создадим датафрейм c данными о пользователях с подпиской**"
   ]
  },
  {
   "cell_type": "code",
   "execution_count": 40,
   "id": "ac40d581",
   "metadata": {},
   "outputs": [
    {
     "data": {
      "text/html": [
       "<div>\n",
       "<style scoped>\n",
       "    .dataframe tbody tr th:only-of-type {\n",
       "        vertical-align: middle;\n",
       "    }\n",
       "\n",
       "    .dataframe tbody tr th {\n",
       "        vertical-align: top;\n",
       "    }\n",
       "\n",
       "    .dataframe thead th {\n",
       "        text-align: right;\n",
       "    }\n",
       "</style>\n",
       "<table border=\"1\" class=\"dataframe\">\n",
       "  <thead>\n",
       "    <tr style=\"text-align: right;\">\n",
       "      <th></th>\n",
       "      <th>user_id</th>\n",
       "      <th>name</th>\n",
       "      <th>age</th>\n",
       "      <th>city</th>\n",
       "      <th>subscription_type</th>\n",
       "      <th>distance</th>\n",
       "      <th>duration</th>\n",
       "      <th>date</th>\n",
       "      <th>date_month</th>\n",
       "      <th>minute_price</th>\n",
       "      <th>start_ride_price</th>\n",
       "      <th>subscription_fee</th>\n",
       "    </tr>\n",
       "  </thead>\n",
       "  <tbody>\n",
       "    <tr>\n",
       "      <th>0</th>\n",
       "      <td>1</td>\n",
       "      <td>Кира</td>\n",
       "      <td>22</td>\n",
       "      <td>Тюмень</td>\n",
       "      <td>ultra</td>\n",
       "      <td>4409.919140</td>\n",
       "      <td>25.599769</td>\n",
       "      <td>2021-01-01</td>\n",
       "      <td>1</td>\n",
       "      <td>6</td>\n",
       "      <td>0</td>\n",
       "      <td>199</td>\n",
       "    </tr>\n",
       "    <tr>\n",
       "      <th>1</th>\n",
       "      <td>1</td>\n",
       "      <td>Кира</td>\n",
       "      <td>22</td>\n",
       "      <td>Тюмень</td>\n",
       "      <td>ultra</td>\n",
       "      <td>2617.592153</td>\n",
       "      <td>15.816871</td>\n",
       "      <td>2021-01-18</td>\n",
       "      <td>1</td>\n",
       "      <td>6</td>\n",
       "      <td>0</td>\n",
       "      <td>199</td>\n",
       "    </tr>\n",
       "    <tr>\n",
       "      <th>2</th>\n",
       "      <td>1</td>\n",
       "      <td>Кира</td>\n",
       "      <td>22</td>\n",
       "      <td>Тюмень</td>\n",
       "      <td>ultra</td>\n",
       "      <td>754.159807</td>\n",
       "      <td>6.232113</td>\n",
       "      <td>2021-04-20</td>\n",
       "      <td>4</td>\n",
       "      <td>6</td>\n",
       "      <td>0</td>\n",
       "      <td>199</td>\n",
       "    </tr>\n",
       "    <tr>\n",
       "      <th>3</th>\n",
       "      <td>1</td>\n",
       "      <td>Кира</td>\n",
       "      <td>22</td>\n",
       "      <td>Тюмень</td>\n",
       "      <td>ultra</td>\n",
       "      <td>2694.783254</td>\n",
       "      <td>18.511000</td>\n",
       "      <td>2021-08-11</td>\n",
       "      <td>8</td>\n",
       "      <td>6</td>\n",
       "      <td>0</td>\n",
       "      <td>199</td>\n",
       "    </tr>\n",
       "    <tr>\n",
       "      <th>4</th>\n",
       "      <td>1</td>\n",
       "      <td>Кира</td>\n",
       "      <td>22</td>\n",
       "      <td>Тюмень</td>\n",
       "      <td>ultra</td>\n",
       "      <td>4028.687306</td>\n",
       "      <td>26.265803</td>\n",
       "      <td>2021-08-28</td>\n",
       "      <td>8</td>\n",
       "      <td>6</td>\n",
       "      <td>0</td>\n",
       "      <td>199</td>\n",
       "    </tr>\n",
       "  </tbody>\n",
       "</table>\n",
       "</div>"
      ],
      "text/plain": [
       "   user_id  name  age    city subscription_type     distance   duration  \\\n",
       "0        1  Кира   22  Тюмень             ultra  4409.919140  25.599769   \n",
       "1        1  Кира   22  Тюмень             ultra  2617.592153  15.816871   \n",
       "2        1  Кира   22  Тюмень             ultra   754.159807   6.232113   \n",
       "3        1  Кира   22  Тюмень             ultra  2694.783254  18.511000   \n",
       "4        1  Кира   22  Тюмень             ultra  4028.687306  26.265803   \n",
       "\n",
       "        date  date_month  minute_price  start_ride_price  subscription_fee  \n",
       "0 2021-01-01           1             6                 0               199  \n",
       "1 2021-01-18           1             6                 0               199  \n",
       "2 2021-04-20           4             6                 0               199  \n",
       "3 2021-08-11           8             6                 0               199  \n",
       "4 2021-08-28           8             6                 0               199  "
      ]
     },
     "execution_count": 40,
     "metadata": {},
     "output_type": "execute_result"
    }
   ],
   "source": [
    "data_merge_subscription_ultra = data_merge.loc[data_merge['subscription_type'] == 'ultra']\n",
    "data_merge_subscription_ultra.head()"
   ]
  },
  {
   "cell_type": "markdown",
   "id": "1e8ad57f",
   "metadata": {},
   "source": [
    "Построим график с преодоленным расстоянием пользователей с платной подпиской"
   ]
  },
  {
   "cell_type": "code",
   "execution_count": 41,
   "id": "89fc1434",
   "metadata": {},
   "outputs": [
    {
     "data": {
      "image/png": "[encoded data removed]",
      "text/plain": [
       "<Figure size 640x480 with 1 Axes>"
      ]
     },
     "metadata": {},
     "output_type": "display_data"
    }
   ],
   "source": [
    "plt.hist(data_merge_subscription_ultra['distance'], bins=50, range=(0, 7000))\n",
    "plt.title('Пользователи с платной подпиской')\n",
    "plt.ylabel('Количество пользователей')\n",
    "plt.xlabel('Расстояние м.')\n",
    "plt.grid()\n",
    "plt.show();"
   ]
  },
  {
   "cell_type": "markdown",
   "id": "b08a9cd8",
   "metadata": {},
   "source": [
    "Построим график с временем поездки пользователей с платной подпиской"
   ]
  },
  {
   "cell_type": "code",
   "execution_count": 42,
   "id": "f28e195f",
   "metadata": {},
   "outputs": [
    {
     "data": {
      "image/png": "[encoded data removed]",
      "text/plain": [
       "<Figure size 640x480 with 1 Axes>"
      ]
     },
     "metadata": {},
     "output_type": "display_data"
    }
   ],
   "source": [
    "plt.hist(data_merge_subscription_ultra['duration'], bins=30, range=(0, 40))\n",
    "plt.title('Пользователи с платной подпиской')\n",
    "plt.ylabel('Количество пользователей')\n",
    "plt.xlabel('Время поездки, минуты')\n",
    "plt.grid()\n",
    "plt.show();"
   ]
  },
  {
   "cell_type": "markdown",
   "id": "0abc2fd1",
   "metadata": {},
   "source": [
    "**Вывод**\n",
    "\n",
    "Объединили данные о пользователях, поездках и тарифах в один датафрейм - `data_merge`.  \n",
    "\n",
    "Создали еще два датафрейма\n",
    "\n",
    "`data_merge_subscription_free` - информация о пользователях без подписки   \n",
    "`data_merge_subscription_ultra` - информация о пользователях с платной подпиской  \n",
    "Визуализировали информацию о расстоянии и времени для пользователей с бесплатной подпиской и платной.  \n",
    "\n",
    "Для пользователей с бесплатной подпиской, время поездки составляет примерно от 10 до 25 минут, проезжают такие пользователи примерно от 2 до 4.5 км, есть пользователи, которые проехали 6.5 - 7 км.  \n",
    "\n",
    "Для пользователей с платной подпиской, время поездки составляет примерно от 12 до 23 минут. Основное количество пользователей проезжают расстояние около 2.9 - 3.3 км.  \n",
    "\n",
    "Можно сделать вывод, что пользователи с бесплатной подпиской, совершают более долгие поездки, а также проезжают большее расстояние, чем пользователи с платной подпиской."
   ]
  },
  {
   "cell_type": "code",
   "execution_count": 43,
   "id": "c0448eff",
   "metadata": {},
   "outputs": [
    {
     "data": {
      "image/png": "[encoded data removed]",
      "text/plain": [
       "<Figure size 640x480 with 1 Axes>"
      ]
     },
     "metadata": {},
     "output_type": "display_data"
    }
   ],
   "source": [
    "data_merge_subscription_ultra['distance'].plot(kind='hist', histtype='step'\n",
    "                                        , bins=50, label='c подпиской', linewidth=2, legend=True)\n",
    "data_merge_subscription_free['distance'].plot(kind='hist', histtype='step'\n",
    "                                        , bins=50, label='без подписки', linewidth=2, legend=True)\n",
    "plt.title('Расстояние для пользователей обеих категорий')\n",
    "plt.xlabel('Пройденное расстояние')\n",
    "plt.ylabel('Количество пользователей')\n",
    "plt.show()"
   ]
  },
  {
   "cell_type": "code",
   "execution_count": 44,
   "id": "e2000a27",
   "metadata": {},
   "outputs": [
    {
     "data": {
      "image/png": "[encoded data removed]",
      "text/plain": [
       "<Figure size 640x480 with 1 Axes>"
      ]
     },
     "metadata": {},
     "output_type": "display_data"
    }
   ],
   "source": [
    "data_merge_subscription_ultra['duration'].plot(kind='hist', histtype='step'\n",
    "                                        , bins=30, label='c подпиской', linewidth=2, legend=True)\n",
    "data_merge_subscription_free['duration'].plot(kind='hist', histtype='step'\n",
    "                                        , bins=30, label='без подписки', linewidth=2, legend=True)\n",
    "plt.title('Время поездок для пользователей обеих категорий')\n",
    "plt.xlabel('Время')\n",
    "plt.ylabel('Количество пользователей')\n",
    "plt.show()"
   ]
  },
  {
   "cell_type": "markdown",
   "id": "402d620f",
   "metadata": {},
   "source": [
    "#### Шаг 5. Подсчёт выручки"
   ]
  },
  {
   "cell_type": "markdown",
   "id": "fd0e613b",
   "metadata": {},
   "source": [
    "**Найдем суммарное расстояние, количество поездок и суммарное время для каждого пользователя за каждый месяц**"
   ]
  },
  {
   "cell_type": "code",
   "execution_count": 45,
   "id": "eb5a63f7",
   "metadata": {},
   "outputs": [
    {
     "data": {
      "text/html": [
       "<div>\n",
       "<style scoped>\n",
       "    .dataframe tbody tr th:only-of-type {\n",
       "        vertical-align: middle;\n",
       "    }\n",
       "\n",
       "    .dataframe tbody tr th {\n",
       "        vertical-align: top;\n",
       "    }\n",
       "\n",
       "    .dataframe thead th {\n",
       "        text-align: right;\n",
       "    }\n",
       "</style>\n",
       "<table border=\"1\" class=\"dataframe\">\n",
       "  <thead>\n",
       "    <tr style=\"text-align: right;\">\n",
       "      <th></th>\n",
       "      <th>user_id</th>\n",
       "      <th>name</th>\n",
       "      <th>age</th>\n",
       "      <th>city</th>\n",
       "      <th>subscription_type</th>\n",
       "      <th>distance</th>\n",
       "      <th>duration</th>\n",
       "      <th>date</th>\n",
       "      <th>date_month</th>\n",
       "      <th>minute_price</th>\n",
       "      <th>start_ride_price</th>\n",
       "      <th>subscription_fee</th>\n",
       "    </tr>\n",
       "  </thead>\n",
       "  <tbody>\n",
       "    <tr>\n",
       "      <th>0</th>\n",
       "      <td>1</td>\n",
       "      <td>Кира</td>\n",
       "      <td>22</td>\n",
       "      <td>Тюмень</td>\n",
       "      <td>ultra</td>\n",
       "      <td>4409.919140</td>\n",
       "      <td>25.599769</td>\n",
       "      <td>2021-01-01</td>\n",
       "      <td>1</td>\n",
       "      <td>6</td>\n",
       "      <td>0</td>\n",
       "      <td>199</td>\n",
       "    </tr>\n",
       "    <tr>\n",
       "      <th>1</th>\n",
       "      <td>1</td>\n",
       "      <td>Кира</td>\n",
       "      <td>22</td>\n",
       "      <td>Тюмень</td>\n",
       "      <td>ultra</td>\n",
       "      <td>2617.592153</td>\n",
       "      <td>15.816871</td>\n",
       "      <td>2021-01-18</td>\n",
       "      <td>1</td>\n",
       "      <td>6</td>\n",
       "      <td>0</td>\n",
       "      <td>199</td>\n",
       "    </tr>\n",
       "    <tr>\n",
       "      <th>2</th>\n",
       "      <td>1</td>\n",
       "      <td>Кира</td>\n",
       "      <td>22</td>\n",
       "      <td>Тюмень</td>\n",
       "      <td>ultra</td>\n",
       "      <td>754.159807</td>\n",
       "      <td>6.232113</td>\n",
       "      <td>2021-04-20</td>\n",
       "      <td>4</td>\n",
       "      <td>6</td>\n",
       "      <td>0</td>\n",
       "      <td>199</td>\n",
       "    </tr>\n",
       "    <tr>\n",
       "      <th>3</th>\n",
       "      <td>1</td>\n",
       "      <td>Кира</td>\n",
       "      <td>22</td>\n",
       "      <td>Тюмень</td>\n",
       "      <td>ultra</td>\n",
       "      <td>2694.783254</td>\n",
       "      <td>18.511000</td>\n",
       "      <td>2021-08-11</td>\n",
       "      <td>8</td>\n",
       "      <td>6</td>\n",
       "      <td>0</td>\n",
       "      <td>199</td>\n",
       "    </tr>\n",
       "    <tr>\n",
       "      <th>4</th>\n",
       "      <td>1</td>\n",
       "      <td>Кира</td>\n",
       "      <td>22</td>\n",
       "      <td>Тюмень</td>\n",
       "      <td>ultra</td>\n",
       "      <td>4028.687306</td>\n",
       "      <td>26.265803</td>\n",
       "      <td>2021-08-28</td>\n",
       "      <td>8</td>\n",
       "      <td>6</td>\n",
       "      <td>0</td>\n",
       "      <td>199</td>\n",
       "    </tr>\n",
       "  </tbody>\n",
       "</table>\n",
       "</div>"
      ],
      "text/plain": [
       "   user_id  name  age    city subscription_type     distance   duration  \\\n",
       "0        1  Кира   22  Тюмень             ultra  4409.919140  25.599769   \n",
       "1        1  Кира   22  Тюмень             ultra  2617.592153  15.816871   \n",
       "2        1  Кира   22  Тюмень             ultra   754.159807   6.232113   \n",
       "3        1  Кира   22  Тюмень             ultra  2694.783254  18.511000   \n",
       "4        1  Кира   22  Тюмень             ultra  4028.687306  26.265803   \n",
       "\n",
       "        date  date_month  minute_price  start_ride_price  subscription_fee  \n",
       "0 2021-01-01           1             6                 0               199  \n",
       "1 2021-01-18           1             6                 0               199  \n",
       "2 2021-04-20           4             6                 0               199  \n",
       "3 2021-08-11           8             6                 0               199  \n",
       "4 2021-08-28           8             6                 0               199  "
      ]
     },
     "execution_count": 45,
     "metadata": {},
     "output_type": "execute_result"
    }
   ],
   "source": [
    "data_merge.head()"
   ]
  },
  {
   "cell_type": "code",
   "execution_count": 46,
   "id": "12cfc82d",
   "metadata": {},
   "outputs": [],
   "source": [
    "data_merge['distance'] = round(data_merge['distance'], 1)"
   ]
  },
  {
   "cell_type": "markdown",
   "id": "eb4095db",
   "metadata": {},
   "source": [
    "Создадим датафрейм с агрегированными данными"
   ]
  },
  {
   "cell_type": "code",
   "execution_count": 47,
   "id": "aa117610",
   "metadata": {},
   "outputs": [],
   "source": [
    "agg_data = pd.pivot_table(data_merge,\n",
    "                           index=['date_month', 'user_id'],\n",
    "                           values = ['distance', 'duration', 'name', 'subscription_type'],\n",
    "                           aggfunc = {'distance': sum, \n",
    "                                      'duration' : sum, \n",
    "                                      'name' : len,\n",
    "                                      'subscription_type' : min})"
   ]
  },
  {
   "cell_type": "markdown",
   "id": "ceddcf23",
   "metadata": {},
   "source": [
    "Перименуем колонку с именем 'name' на количество поездок 'count_trips'"
   ]
  },
  {
   "cell_type": "code",
   "execution_count": 48,
   "id": "1c0372be",
   "metadata": {},
   "outputs": [],
   "source": [
    "agg_data.rename(columns = {'name' : 'count_trips'}, inplace = True)"
   ]
  },
  {
   "cell_type": "markdown",
   "id": "4b02f4ec",
   "metadata": {},
   "source": [
    "Округлим к потолку данные колонки 'duration'"
   ]
  },
  {
   "cell_type": "code",
   "execution_count": 49,
   "id": "e52dc405",
   "metadata": {},
   "outputs": [],
   "source": [
    "agg_data['duration'] = np.ceil(agg_data['duration'])"
   ]
  },
  {
   "cell_type": "markdown",
   "id": "b995f380",
   "metadata": {},
   "source": [
    "Посмотрим информацию по каждому пользователю за каждый месяц"
   ]
  },
  {
   "cell_type": "code",
   "execution_count": 50,
   "id": "7e3fd568",
   "metadata": {},
   "outputs": [
    {
     "data": {
      "text/html": [
       "<div>\n",
       "<style scoped>\n",
       "    .dataframe tbody tr th:only-of-type {\n",
       "        vertical-align: middle;\n",
       "    }\n",
       "\n",
       "    .dataframe tbody tr th {\n",
       "        vertical-align: top;\n",
       "    }\n",
       "\n",
       "    .dataframe thead th {\n",
       "        text-align: right;\n",
       "    }\n",
       "</style>\n",
       "<table border=\"1\" class=\"dataframe\">\n",
       "  <thead>\n",
       "    <tr style=\"text-align: right;\">\n",
       "      <th></th>\n",
       "      <th></th>\n",
       "      <th>distance</th>\n",
       "      <th>duration</th>\n",
       "      <th>count_trips</th>\n",
       "      <th>subscription_type</th>\n",
       "    </tr>\n",
       "    <tr>\n",
       "      <th>date_month</th>\n",
       "      <th>user_id</th>\n",
       "      <th></th>\n",
       "      <th></th>\n",
       "      <th></th>\n",
       "      <th></th>\n",
       "    </tr>\n",
       "  </thead>\n",
       "  <tbody>\n",
       "    <tr>\n",
       "      <th rowspan=\"5\" valign=\"top\">1</th>\n",
       "      <th>1</th>\n",
       "      <td>7027.5</td>\n",
       "      <td>42.0</td>\n",
       "      <td>2</td>\n",
       "      <td>ultra</td>\n",
       "    </tr>\n",
       "    <tr>\n",
       "      <th>1061</th>\n",
       "      <td>12637.3</td>\n",
       "      <td>42.0</td>\n",
       "      <td>3</td>\n",
       "      <td>free</td>\n",
       "    </tr>\n",
       "    <tr>\n",
       "      <th>1063</th>\n",
       "      <td>3276.4</td>\n",
       "      <td>10.0</td>\n",
       "      <td>1</td>\n",
       "      <td>free</td>\n",
       "    </tr>\n",
       "    <tr>\n",
       "      <th>1064</th>\n",
       "      <td>5297.3</td>\n",
       "      <td>15.0</td>\n",
       "      <td>1</td>\n",
       "      <td>free</td>\n",
       "    </tr>\n",
       "    <tr>\n",
       "      <th>1065</th>\n",
       "      <td>14547.0</td>\n",
       "      <td>97.0</td>\n",
       "      <td>4</td>\n",
       "      <td>free</td>\n",
       "    </tr>\n",
       "  </tbody>\n",
       "</table>\n",
       "</div>"
      ],
      "text/plain": [
       "                    distance  duration  count_trips subscription_type\n",
       "date_month user_id                                                   \n",
       "1          1          7027.5      42.0            2             ultra\n",
       "           1061      12637.3      42.0            3              free\n",
       "           1063       3276.4      10.0            1              free\n",
       "           1064       5297.3      15.0            1              free\n",
       "           1065      14547.0      97.0            4              free"
      ]
     },
     "execution_count": 50,
     "metadata": {},
     "output_type": "execute_result"
    }
   ],
   "source": [
    "agg_data.sort_values(by='date_month').head()"
   ]
  },
  {
   "cell_type": "markdown",
   "id": "6dce7921",
   "metadata": {},
   "source": [
    "Посмотрим информацию по выбранному пользователю, например посмотрим данные по пользователю с id = 5"
   ]
  },
  {
   "cell_type": "code",
   "execution_count": 51,
   "id": "889d848c",
   "metadata": {},
   "outputs": [
    {
     "data": {
      "text/html": [
       "<div>\n",
       "<style scoped>\n",
       "    .dataframe tbody tr th:only-of-type {\n",
       "        vertical-align: middle;\n",
       "    }\n",
       "\n",
       "    .dataframe tbody tr th {\n",
       "        vertical-align: top;\n",
       "    }\n",
       "\n",
       "    .dataframe thead th {\n",
       "        text-align: right;\n",
       "    }\n",
       "</style>\n",
       "<table border=\"1\" class=\"dataframe\">\n",
       "  <thead>\n",
       "    <tr style=\"text-align: right;\">\n",
       "      <th></th>\n",
       "      <th></th>\n",
       "      <th>distance</th>\n",
       "      <th>duration</th>\n",
       "      <th>count_trips</th>\n",
       "      <th>subscription_type</th>\n",
       "    </tr>\n",
       "    <tr>\n",
       "      <th>date_month</th>\n",
       "      <th>user_id</th>\n",
       "      <th></th>\n",
       "      <th></th>\n",
       "      <th></th>\n",
       "      <th></th>\n",
       "    </tr>\n",
       "  </thead>\n",
       "  <tbody>\n",
       "    <tr>\n",
       "      <th>1</th>\n",
       "      <th>5</th>\n",
       "      <td>3914.6</td>\n",
       "      <td>13.0</td>\n",
       "      <td>1</td>\n",
       "      <td>ultra</td>\n",
       "    </tr>\n",
       "    <tr>\n",
       "      <th>2</th>\n",
       "      <th>5</th>\n",
       "      <td>2561.1</td>\n",
       "      <td>12.0</td>\n",
       "      <td>1</td>\n",
       "      <td>ultra</td>\n",
       "    </tr>\n",
       "    <tr>\n",
       "      <th>3</th>\n",
       "      <th>5</th>\n",
       "      <td>10633.7</td>\n",
       "      <td>56.0</td>\n",
       "      <td>3</td>\n",
       "      <td>ultra</td>\n",
       "    </tr>\n",
       "    <tr>\n",
       "      <th>4</th>\n",
       "      <th>5</th>\n",
       "      <td>3373.1</td>\n",
       "      <td>15.0</td>\n",
       "      <td>1</td>\n",
       "      <td>ultra</td>\n",
       "    </tr>\n",
       "    <tr>\n",
       "      <th>5</th>\n",
       "      <th>5</th>\n",
       "      <td>5823.1</td>\n",
       "      <td>32.0</td>\n",
       "      <td>2</td>\n",
       "      <td>ultra</td>\n",
       "    </tr>\n",
       "    <tr>\n",
       "      <th>7</th>\n",
       "      <th>5</th>\n",
       "      <td>3312.0</td>\n",
       "      <td>12.0</td>\n",
       "      <td>1</td>\n",
       "      <td>ultra</td>\n",
       "    </tr>\n",
       "    <tr>\n",
       "      <th>8</th>\n",
       "      <th>5</th>\n",
       "      <td>2720.8</td>\n",
       "      <td>18.0</td>\n",
       "      <td>1</td>\n",
       "      <td>ultra</td>\n",
       "    </tr>\n",
       "    <tr>\n",
       "      <th>10</th>\n",
       "      <th>5</th>\n",
       "      <td>3218.5</td>\n",
       "      <td>20.0</td>\n",
       "      <td>1</td>\n",
       "      <td>ultra</td>\n",
       "    </tr>\n",
       "  </tbody>\n",
       "</table>\n",
       "</div>"
      ],
      "text/plain": [
       "                    distance  duration  count_trips subscription_type\n",
       "date_month user_id                                                   \n",
       "1          5          3914.6      13.0            1             ultra\n",
       "2          5          2561.1      12.0            1             ultra\n",
       "3          5         10633.7      56.0            3             ultra\n",
       "4          5          3373.1      15.0            1             ultra\n",
       "5          5          5823.1      32.0            2             ultra\n",
       "7          5          3312.0      12.0            1             ultra\n",
       "8          5          2720.8      18.0            1             ultra\n",
       "10         5          3218.5      20.0            1             ultra"
      ]
     },
     "execution_count": 51,
     "metadata": {},
     "output_type": "execute_result"
    }
   ],
   "source": [
    "agg_data.query('user_id == 5')"
   ]
  },
  {
   "cell_type": "markdown",
   "id": "a6c34ab9",
   "metadata": {},
   "source": [
    "**Добавим столбец с помесячной выручкой**"
   ]
  },
  {
   "cell_type": "markdown",
   "id": "04408bdc",
   "metadata": {},
   "source": [
    "Объявим функцию для вычисления помесячной выручки"
   ]
  },
  {
   "cell_type": "code",
   "execution_count": 52,
   "id": "84373be0",
   "metadata": {},
   "outputs": [],
   "source": [
    "def monthly_revenue(row):\n",
    "    if row['subscription_type'] == 'ultra':\n",
    "        return 6 * row['duration'] + 199\n",
    "    elif row['subscription_type'] == 'free':\n",
    "        return 50 * row['count_trips'] + 8 * row['duration']\n",
    "    else:\n",
    "        return"
   ]
  },
  {
   "cell_type": "markdown",
   "id": "10f8acd8",
   "metadata": {},
   "source": [
    "Вызовим функцию и создадим столбец с помесячной выручкой"
   ]
  },
  {
   "cell_type": "code",
   "execution_count": 53,
   "id": "f069f663",
   "metadata": {},
   "outputs": [],
   "source": [
    "agg_data['revenue_month'] = agg_data.apply(monthly_revenue, axis=1)"
   ]
  },
  {
   "cell_type": "markdown",
   "id": "615185dc",
   "metadata": {},
   "source": [
    "Проверим результат и посмотрим пользователей с самой большой выручкой за месяц"
   ]
  },
  {
   "cell_type": "code",
   "execution_count": 54,
   "id": "38735800",
   "metadata": {},
   "outputs": [
    {
     "data": {
      "text/plain": [
       "date_month  user_id\n",
       "1           1471       1428.0\n",
       "5           1083       1350.0\n",
       "12          715        1324.0\n",
       "4           1424       1318.0\n",
       "1           1383       1260.0\n",
       "3           1196       1252.0\n",
       "5           938        1164.0\n",
       "12          1149       1162.0\n",
       "3           991        1138.0\n",
       "7           944        1130.0\n",
       "Name: revenue_month, dtype: float64"
      ]
     },
     "execution_count": 54,
     "metadata": {},
     "output_type": "execute_result"
    }
   ],
   "source": [
    "agg_data['revenue_month'].sort_values(ascending=False).head(10)"
   ]
  },
  {
   "cell_type": "markdown",
   "id": "e1a15567",
   "metadata": {},
   "source": [
    "Посмотрим на любого выбранного пользователя"
   ]
  },
  {
   "cell_type": "code",
   "execution_count": 55,
   "id": "4681e4c1",
   "metadata": {},
   "outputs": [
    {
     "data": {
      "text/html": [
       "<div>\n",
       "<style scoped>\n",
       "    .dataframe tbody tr th:only-of-type {\n",
       "        vertical-align: middle;\n",
       "    }\n",
       "\n",
       "    .dataframe tbody tr th {\n",
       "        vertical-align: top;\n",
       "    }\n",
       "\n",
       "    .dataframe thead th {\n",
       "        text-align: right;\n",
       "    }\n",
       "</style>\n",
       "<table border=\"1\" class=\"dataframe\">\n",
       "  <thead>\n",
       "    <tr style=\"text-align: right;\">\n",
       "      <th></th>\n",
       "      <th></th>\n",
       "      <th>distance</th>\n",
       "      <th>duration</th>\n",
       "      <th>count_trips</th>\n",
       "      <th>subscription_type</th>\n",
       "      <th>revenue_month</th>\n",
       "    </tr>\n",
       "    <tr>\n",
       "      <th>date_month</th>\n",
       "      <th>user_id</th>\n",
       "      <th></th>\n",
       "      <th></th>\n",
       "      <th></th>\n",
       "      <th></th>\n",
       "      <th></th>\n",
       "    </tr>\n",
       "  </thead>\n",
       "  <tbody>\n",
       "    <tr>\n",
       "      <th>1</th>\n",
       "      <th>3</th>\n",
       "      <td>3061.8</td>\n",
       "      <td>13.0</td>\n",
       "      <td>1</td>\n",
       "      <td>ultra</td>\n",
       "      <td>277.0</td>\n",
       "    </tr>\n",
       "    <tr>\n",
       "      <th>2</th>\n",
       "      <th>3</th>\n",
       "      <td>5421.2</td>\n",
       "      <td>38.0</td>\n",
       "      <td>2</td>\n",
       "      <td>ultra</td>\n",
       "      <td>427.0</td>\n",
       "    </tr>\n",
       "    <tr>\n",
       "      <th>4</th>\n",
       "      <th>3</th>\n",
       "      <td>2956.7</td>\n",
       "      <td>21.0</td>\n",
       "      <td>1</td>\n",
       "      <td>ultra</td>\n",
       "      <td>325.0</td>\n",
       "    </tr>\n",
       "    <tr>\n",
       "      <th>5</th>\n",
       "      <th>3</th>\n",
       "      <td>9064.0</td>\n",
       "      <td>62.0</td>\n",
       "      <td>3</td>\n",
       "      <td>ultra</td>\n",
       "      <td>571.0</td>\n",
       "    </tr>\n",
       "    <tr>\n",
       "      <th>7</th>\n",
       "      <th>3</th>\n",
       "      <td>10919.6</td>\n",
       "      <td>66.0</td>\n",
       "      <td>3</td>\n",
       "      <td>ultra</td>\n",
       "      <td>595.0</td>\n",
       "    </tr>\n",
       "    <tr>\n",
       "      <th>9</th>\n",
       "      <th>3</th>\n",
       "      <td>2891.0</td>\n",
       "      <td>23.0</td>\n",
       "      <td>1</td>\n",
       "      <td>ultra</td>\n",
       "      <td>337.0</td>\n",
       "    </tr>\n",
       "    <tr>\n",
       "      <th>12</th>\n",
       "      <th>3</th>\n",
       "      <td>2593.4</td>\n",
       "      <td>13.0</td>\n",
       "      <td>1</td>\n",
       "      <td>ultra</td>\n",
       "      <td>277.0</td>\n",
       "    </tr>\n",
       "  </tbody>\n",
       "</table>\n",
       "</div>"
      ],
      "text/plain": [
       "                    distance  duration  count_trips subscription_type  \\\n",
       "date_month user_id                                                      \n",
       "1          3          3061.8      13.0            1             ultra   \n",
       "2          3          5421.2      38.0            2             ultra   \n",
       "4          3          2956.7      21.0            1             ultra   \n",
       "5          3          9064.0      62.0            3             ultra   \n",
       "7          3         10919.6      66.0            3             ultra   \n",
       "9          3          2891.0      23.0            1             ultra   \n",
       "12         3          2593.4      13.0            1             ultra   \n",
       "\n",
       "                    revenue_month  \n",
       "date_month user_id                 \n",
       "1          3                277.0  \n",
       "2          3                427.0  \n",
       "4          3                325.0  \n",
       "5          3                571.0  \n",
       "7          3                595.0  \n",
       "9          3                337.0  \n",
       "12         3                277.0  "
      ]
     },
     "execution_count": 55,
     "metadata": {},
     "output_type": "execute_result"
    }
   ],
   "source": [
    "agg_data.query('user_id == 3')"
   ]
  },
  {
   "cell_type": "markdown",
   "id": "3f689305",
   "metadata": {},
   "source": [
    "**Вывод**  \n",
    "\n",
    "Создали новый датафрейм с агрегированными данными `agg_data` на основе датафрейма с объединенными данными `merge_data`.\n",
    "\n",
    "Нашли суммарное расстояние, количество поездок и суммарное время для каждого пользователя за каждый месяц. Также добавили столбец с помесячной выручкой, которую принес каждый пользователь."
   ]
  },
  {
   "cell_type": "markdown",
   "id": "41545ac0",
   "metadata": {},
   "source": [
    "#### Шаг 6. Проверка гипотез"
   ]
  },
  {
   "cell_type": "markdown",
   "id": "59e3ee6d",
   "metadata": {},
   "source": [
    "**6.1**"
   ]
  },
  {
   "cell_type": "markdown",
   "id": "e275c19f",
   "metadata": {},
   "source": [
    "Важно понять, тратят ли пользователи с подпиской больше времени на поездки? Если да, то пользователи с подпиской могут быть «выгоднее» для компании. Проверьте гипотезу. Используйте исходные данные о продолжительности каждой сессии — отдельно для подписчиков и тех, у кого нет подписки."
   ]
  },
  {
   "cell_type": "markdown",
   "id": "aaf6a553",
   "metadata": {},
   "source": [
    "**Проверим гипотезу:** пользователи с платной подпиской тратят больше времени на поездки, чем пользователи с бесплатной подпиской.  \n",
    "\n",
    "H_0: Время `duration` пользователей на подписке ultra = время `duration` пользователей на подписке free\n",
    "\n",
    "H_1: Время `duration` пользователей на подписке ultra > время `duration` пользователей на подписке free\n",
    "\n",
    "alpha = 0.05"
   ]
  },
  {
   "cell_type": "code",
   "execution_count": 56,
   "id": "5166e307",
   "metadata": {},
   "outputs": [
    {
     "name": "stdout",
     "output_type": "stream",
     "text": [
      "1.2804098316645613e-34\n",
      "Отвергаем нулевую гипотезу\n"
     ]
    }
   ],
   "source": [
    "ultra = data_merge_subscription_ultra['duration'] \n",
    "\n",
    "free = data_merge_subscription_free['duration']\n",
    "\n",
    "results = st.ttest_ind(ultra, \n",
    "                       free,\n",
    "                       alternative = 'greater')\n",
    "\n",
    "alpha = 0.05\n",
    "\n",
    "print(results.pvalue)\n",
    "\n",
    "if results.pvalue < alpha:\n",
    "    print('Отвергаем нулевую гипотезу')\n",
    "else:\n",
    "    print('Не удалось отвергнуть нулевую гипотезу')"
   ]
  },
  {
   "cell_type": "markdown",
   "id": "71921148",
   "metadata": {},
   "source": [
    "**Вывод**  \n",
    "\n",
    "Проверили гипотезу, отвергли гипотезу о том, что время поездки пользователей на тарифе ultra равно времени поездки пользователей на тарифе free."
   ]
  },
  {
   "cell_type": "markdown",
   "id": "032fa59d",
   "metadata": {},
   "source": [
    "**6.2**"
   ]
  },
  {
   "cell_type": "markdown",
   "id": "4e253822",
   "metadata": {},
   "source": [
    "Расстояние одной поездки в 3130 метров — оптимальное с точки зрения износа самоката. Можно ли сказать, что среднее расстояние, которое проезжают пользователи с подпиской за одну поездку, не превышает 3130 метров? Проверьте гипотезу и сделайте выводы."
   ]
  },
  {
   "cell_type": "markdown",
   "id": "43627ab6",
   "metadata": {},
   "source": [
    "**Проверим гипотезу:** пользователи с подпиской проезжают расстояние за одну поездку не превышающее 3130 метров.  \n",
    "\n",
    "H_0: Расстояние `distance` пользователей на подписке ultra = 3130 метров\n",
    "\n",
    "H_1: Пользователи с платной подпиской в среднем проезжают расстояние больше 3130 метров\n",
    "\n",
    "alpha = 0.05"
   ]
  },
  {
   "cell_type": "code",
   "execution_count": 57,
   "id": "e7a3784b",
   "metadata": {},
   "outputs": [
    {
     "name": "stdout",
     "output_type": "stream",
     "text": [
      "0.9195368847849785\n",
      "Не удалось отвергнуть нулевую гипотезу\n"
     ]
    }
   ],
   "source": [
    "ultra_distance = data_merge_subscription_ultra['distance'] \n",
    "\n",
    "specific_distance = 3130\n",
    "\n",
    "alpha = 0.05\n",
    "\n",
    "results = st.ttest_1samp(\n",
    "    ultra_distance, \n",
    "    specific_distance,\n",
    "    alternative='greater')\n",
    "\n",
    "print(results.pvalue)\n",
    "\n",
    "if results.pvalue < alpha:\n",
    "    print('Отвергаем нулевую гипотезу')\n",
    "else:\n",
    "    print('Не удалось отвергнуть нулевую гипотезу')"
   ]
  },
  {
   "cell_type": "markdown",
   "id": "c3d781d6",
   "metadata": {},
   "source": [
    "**Вывод**  \n",
    "\n",
    "Проверили гипотезу, мы не можем утверждать, что расстояние, которое проехали пользователи на тарифе ultra, не превышает 3130 метров."
   ]
  },
  {
   "cell_type": "markdown",
   "id": "8d0b09d8",
   "metadata": {},
   "source": [
    "**6.3**"
   ]
  },
  {
   "cell_type": "markdown",
   "id": "6ae465bd",
   "metadata": {},
   "source": [
    "Проверьте гипотезу о том, будет ли помесячная выручка от пользователей с подпиской по месяцам выше, чем выручка от пользователей без подписки. Сделайте вывод."
   ]
  },
  {
   "cell_type": "markdown",
   "id": "6a755bf8",
   "metadata": {},
   "source": [
    "**Проверим гипотезу:** помесячная выручка от пользователей с подпиской выше, чем выручка от пользователей без подписки  \n",
    "\n",
    "H_0: Выручка revenue_month пользователей на подписке ultra = выручка revenue_month пользователей на подписке free\n",
    "\n",
    "H_1: Выручка revenue_month пользователей на подписке ultra > выручка revenue_month пользователей на подписке free\n",
    "\n",
    "alpha = 0.05"
   ]
  },
  {
   "cell_type": "code",
   "execution_count": 58,
   "id": "ec1d2f5e",
   "metadata": {},
   "outputs": [
    {
     "name": "stdout",
     "output_type": "stream",
     "text": [
      "2.8130926188487286e-35\n",
      "Отвергаем нулевую гипотезу\n"
     ]
    }
   ],
   "source": [
    "profit_ultra = agg_data.loc[agg_data['subscription_type'] == 'ultra', 'revenue_month']\n",
    "\n",
    "profit_free = agg_data.loc[agg_data['subscription_type'] == 'free', 'revenue_month']\n",
    "\n",
    "results = st.ttest_ind(profit_ultra, \n",
    "                       profit_free,\n",
    "                       alternative = 'greater')\n",
    "\n",
    "alpha = 0.05\n",
    "\n",
    "print(results.pvalue)\n",
    "\n",
    "if results.pvalue < alpha:\n",
    "    print('Отвергаем нулевую гипотезу')\n",
    "else:\n",
    "    print('Не удалось отвергнуть нулевую гипотезу')"
   ]
  },
  {
   "cell_type": "markdown",
   "id": "dbad6106",
   "metadata": {},
   "source": [
    "**Вывод**  \n",
    "\n",
    "Проверили гипотезу, можем утверждать, что выручка от пользователей на подписке ultra, превышает выручку от пользователей на подписке free"
   ]
  },
  {
   "cell_type": "markdown",
   "id": "8e466caf",
   "metadata": {},
   "source": [
    "**6.4**"
   ]
  },
  {
   "cell_type": "markdown",
   "id": "114aec54",
   "metadata": {},
   "source": [
    "Представьте такую ситуацию: техническая команда сервиса обновила сервера, с которыми взаимодействует мобильное приложение. Она надеется, что из-за этого количество обращений в техподдержку значимо снизилось. Некоторый файл содержит для каждого пользователя данные о количестве обращений до обновления и после него. Какой тест вам понадобился бы для проверки этой гипотезы?"
   ]
  },
  {
   "cell_type": "markdown",
   "id": "58e16f8c",
   "metadata": {},
   "source": [
    "Будем использовать гипотезу о равенстве средних для зависимых выборок.\n",
    "\n",
    "Гипотезы сформулируем так:\n",
    "\n",
    "H0 : μ1 = μ2  \n",
    "H1 : μ1 != μ2  \n",
    "где μ1 и μ2 - средние значения количества обращений в техподдержку до и после изменения.\n",
    "\n",
    "Метод, который нужно использовать при сравнении - scipy.stats.ttest_rel"
   ]
  },
  {
   "cell_type": "markdown",
   "id": "17364661",
   "metadata": {},
   "source": [
    "**Общий вывод**  \n",
    "\n",
    "Загрузили три датафрейма: с пользователями, информацией о поездках, информацией о подписках.\n",
    "\n",
    "Проверили данные на пропуски и на дубликаты, пропусков не оказалось, от дубликатов избавились. Поменяли тип данных у столбца date из датафрейма data_riders к типу даты. Также добавили столбец month с номером месяца.\n",
    "\n",
    "Провели исследовательский анализ данных:\n",
    "\n",
    "Вывели, что количество пользователей по городам распределено примерно одинаково, нет сильно выделяющихся значений. Лидером по количеству пользователей является Пятигорск - 219 пользователей. Меньше всего пользователей в Москве - 168.\n",
    "Пользователей, использующих бесплатную подписку больше - 835 человек, что является ~54% от общего числа пользователей. Платной подпиской пользуется 699 пользователей, что соответствует ~46%.\n",
    "В основном возраст пользователей находится в промежутке от 20 до 30 лет\n",
    "В основном пользователи проезжают от 2.4 км до 4 км.\n",
    "Чаще всего длительность поездки состовляет 13 - 22 минуты.\n",
    " \n",
    "Объединили данные о пользователях, поездках и подписках в один датафрейм. На основе объединенного датафрейма создали еще два датафрейма. \n",
    "Визуализировали информацию о расстоянии и времени поездки для пользоватей каждого тарифа.\n",
    "Для пользователей с бесплатной подпиской, время поездки составляет от 10 до 25 минут, проезжают такие пользователи от 2 до 4.5 км, есть пользователи, которые проехали даже 6.5, 7 км.  \n",
    "Для пользователей с платной подпиской время поездки составляет примерно от 12 до 23 минут. Проезжают такие пользователи около 2.9 - 3.3 км.\n",
    "Нашли суммарное расстояние, количество поездок и суммарное время для каждого пользователя за каждый месяц - вывели все данные в отдельный датафрейм. Добавили в датафрейм столбец с помесячной выручкой revenue_month.\n",
    "\n",
    "Проверили гипотезы:\n",
    "\n",
    "Гипотеза: Пользователи с подпиской тратят больше времени на поездки, чем пользователи на бесплатном тарифе - Отвергли нулевую гипотезу  \n",
    "\n",
    "Гипотеза: Пользователи с подпиской проезжают расстояние, не превышающее 3130 метров за одну поездку - Не удалось отвергнуть нулевую гипотезу  \n",
    "\n",
    "Гипотеза: Помесячная выручка от пользователей с подпиской выше, чем выручка от пользователей без подписки - Отвергли нулевую гипотезу"
   ]
  }
 ],
 "metadata": {
  "ExecuteTimeLog": [
   {
    "duration": 1406,
    "start_time": "2023-10-12T09:38:23.412Z"
   },
   {
    "duration": 4,
    "start_time": "2023-10-12T09:38:41.096Z"
   },
   {
    "duration": 3,
    "start_time": "2023-10-12T09:39:07.128Z"
   },
   {
    "duration": 156,
    "start_time": "2023-10-12T09:39:16.066Z"
   },
   {
    "duration": 326,
    "start_time": "2023-10-12T09:40:01.605Z"
   },
   {
    "duration": 41,
    "start_time": "2023-10-12T09:40:39.838Z"
   },
   {
    "duration": 28,
    "start_time": "2023-10-12T09:40:47.185Z"
   },
   {
    "duration": 29,
    "start_time": "2023-10-12T09:40:55.868Z"
   },
   {
    "duration": 29,
    "start_time": "2023-10-12T09:42:32.034Z"
   },
   {
    "duration": 39,
    "start_time": "2023-10-12T09:42:39.722Z"
   },
   {
    "duration": 37,
    "start_time": "2023-10-12T09:42:48.992Z"
   },
   {
    "duration": 48,
    "start_time": "2023-10-12T09:43:23.839Z"
   },
   {
    "duration": 33,
    "start_time": "2023-10-12T09:43:53.400Z"
   },
   {
    "duration": 14,
    "start_time": "2023-10-12T09:44:32.338Z"
   },
   {
    "duration": 13,
    "start_time": "2023-10-12T09:44:38.986Z"
   },
   {
    "duration": 11,
    "start_time": "2023-10-12T09:44:46.782Z"
   },
   {
    "duration": 9,
    "start_time": "2023-10-12T09:45:08.220Z"
   },
   {
    "duration": 6,
    "start_time": "2023-10-12T09:45:25.756Z"
   },
   {
    "duration": 114,
    "start_time": "2023-10-12T09:45:33.239Z"
   },
   {
    "duration": 7,
    "start_time": "2023-10-12T09:45:42.307Z"
   },
   {
    "duration": 7,
    "start_time": "2023-10-12T09:45:48.780Z"
   },
   {
    "duration": 7,
    "start_time": "2023-10-12T09:45:57.111Z"
   },
   {
    "duration": 7,
    "start_time": "2023-10-12T09:46:03.689Z"
   },
   {
    "duration": 10,
    "start_time": "2023-10-12T09:46:10.753Z"
   },
   {
    "duration": 6,
    "start_time": "2023-10-12T09:46:16.480Z"
   },
   {
    "duration": 6,
    "start_time": "2023-10-12T09:46:31.055Z"
   },
   {
    "duration": 7,
    "start_time": "2023-10-12T09:46:41.684Z"
   },
   {
    "duration": 7,
    "start_time": "2023-10-12T09:47:51.811Z"
   },
   {
    "duration": 157,
    "start_time": "2023-10-12T09:47:59.101Z"
   },
   {
    "duration": 141,
    "start_time": "2023-10-12T09:48:06.169Z"
   },
   {
    "duration": 6,
    "start_time": "2023-10-12T09:48:27.486Z"
   },
   {
    "duration": 94,
    "start_time": "2023-10-12T09:48:36.739Z"
   },
   {
    "duration": 92,
    "start_time": "2023-10-12T09:48:40.584Z"
   },
   {
    "duration": 94,
    "start_time": "2023-10-12T09:48:57.297Z"
   },
   {
    "duration": 5,
    "start_time": "2023-10-12T09:49:24.785Z"
   },
   {
    "duration": 170,
    "start_time": "2023-10-12T09:49:31.310Z"
   },
   {
    "duration": 10,
    "start_time": "2023-10-12T09:50:08.186Z"
   },
   {
    "duration": 9,
    "start_time": "2023-10-12T09:50:23.247Z"
   },
   {
    "duration": 9,
    "start_time": "2023-10-12T09:50:43.597Z"
   },
   {
    "duration": 8,
    "start_time": "2023-10-12T09:51:00.766Z"
   },
   {
    "duration": 235,
    "start_time": "2023-10-12T09:51:16.861Z"
   },
   {
    "duration": 8,
    "start_time": "2023-10-12T09:51:48.748Z"
   },
   {
    "duration": 9,
    "start_time": "2023-10-12T09:52:03.533Z"
   },
   {
    "duration": 9,
    "start_time": "2023-10-12T09:52:18.589Z"
   },
   {
    "duration": 210,
    "start_time": "2023-10-12T09:52:34.912Z"
   },
   {
    "duration": 12,
    "start_time": "2023-10-12T09:53:48.181Z"
   },
   {
    "duration": 12,
    "start_time": "2023-10-12T09:53:53.949Z"
   },
   {
    "duration": 13,
    "start_time": "2023-10-12T09:53:59.553Z"
   },
   {
    "duration": 18,
    "start_time": "2023-10-12T09:54:20.881Z"
   },
   {
    "duration": 331,
    "start_time": "2023-10-12T09:54:37.866Z"
   },
   {
    "duration": 184,
    "start_time": "2023-10-12T09:55:00.385Z"
   },
   {
    "duration": 16,
    "start_time": "2023-10-12T09:55:17.173Z"
   },
   {
    "duration": 225,
    "start_time": "2023-10-12T09:55:31.659Z"
   },
   {
    "duration": 189,
    "start_time": "2023-10-12T09:55:49.413Z"
   },
   {
    "duration": 14,
    "start_time": "2023-10-12T09:56:31.913Z"
   },
   {
    "duration": 14,
    "start_time": "2023-10-12T09:56:36.112Z"
   },
   {
    "duration": 948,
    "start_time": "2023-10-12T09:57:00.370Z"
   },
   {
    "duration": 4,
    "start_time": "2023-10-12T09:57:16.640Z"
   },
   {
    "duration": 5,
    "start_time": "2023-10-12T09:57:38.110Z"
   },
   {
    "duration": 12,
    "start_time": "2023-10-12T09:57:55.776Z"
   },
   {
    "duration": 15,
    "start_time": "2023-10-12T09:58:25.198Z"
   },
   {
    "duration": 4,
    "start_time": "2023-10-12T09:59:00.404Z"
   },
   {
    "duration": 158,
    "start_time": "2023-10-12T09:59:18.598Z"
   },
   {
    "duration": 9,
    "start_time": "2023-10-12T09:59:34.025Z"
   },
   {
    "duration": 14,
    "start_time": "2023-10-12T10:00:17.128Z"
   },
   {
    "duration": 7,
    "start_time": "2023-10-12T10:02:37.168Z"
   },
   {
    "duration": 5,
    "start_time": "2023-10-12T10:03:47.599Z"
   },
   {
    "duration": 1267,
    "start_time": "2023-10-12T11:27:43.266Z"
   },
   {
    "duration": 40,
    "start_time": "2023-10-12T11:27:44.535Z"
   },
   {
    "duration": 64,
    "start_time": "2023-10-12T11:27:44.577Z"
   },
   {
    "duration": 20,
    "start_time": "2023-10-12T11:27:44.643Z"
   },
   {
    "duration": 62,
    "start_time": "2023-10-12T11:27:44.666Z"
   },
   {
    "duration": 15,
    "start_time": "2023-10-12T11:27:44.729Z"
   },
   {
    "duration": 9,
    "start_time": "2023-10-12T11:27:44.746Z"
   },
   {
    "duration": 68,
    "start_time": "2023-10-12T11:27:44.757Z"
   },
   {
    "duration": 32,
    "start_time": "2023-10-12T11:27:44.826Z"
   },
   {
    "duration": 12,
    "start_time": "2023-10-12T11:27:44.859Z"
   },
   {
    "duration": 51,
    "start_time": "2023-10-12T11:27:44.873Z"
   },
   {
    "duration": 8,
    "start_time": "2023-10-12T11:27:44.926Z"
   },
   {
    "duration": 14,
    "start_time": "2023-10-12T11:27:44.936Z"
   },
   {
    "duration": 16,
    "start_time": "2023-10-12T11:27:44.953Z"
   },
   {
    "duration": 7,
    "start_time": "2023-10-12T11:27:44.971Z"
   },
   {
    "duration": 7,
    "start_time": "2023-10-12T11:27:45.024Z"
   },
   {
    "duration": 94,
    "start_time": "2023-10-12T11:27:45.034Z"
   },
   {
    "duration": 8,
    "start_time": "2023-10-12T11:27:45.130Z"
   },
   {
    "duration": 316,
    "start_time": "2023-10-12T11:27:45.140Z"
   },
   {
    "duration": 5,
    "start_time": "2023-10-12T11:27:45.458Z"
   },
   {
    "duration": 146,
    "start_time": "2023-10-12T11:27:45.523Z"
   },
   {
    "duration": 54,
    "start_time": "2023-10-12T11:27:45.671Z"
   },
   {
    "duration": 184,
    "start_time": "2023-10-12T11:27:45.727Z"
   },
   {
    "duration": 20,
    "start_time": "2023-10-12T11:27:45.913Z"
   },
   {
    "duration": 14,
    "start_time": "2023-10-12T11:27:45.935Z"
   },
   {
    "duration": 50,
    "start_time": "2023-10-12T11:27:45.952Z"
   },
   {
    "duration": 69,
    "start_time": "2023-10-12T11:27:46.004Z"
   },
   {
    "duration": 461,
    "start_time": "2023-10-12T11:27:46.075Z"
   },
   {
    "duration": 9,
    "start_time": "2023-10-12T11:27:46.539Z"
   },
   {
    "duration": 15,
    "start_time": "2023-10-12T11:27:46.624Z"
   },
   {
    "duration": 137,
    "start_time": "2023-10-12T11:27:46.642Z"
   },
   {
    "duration": 685,
    "start_time": "2023-10-12T11:27:46.781Z"
   },
   {
    "duration": 63,
    "start_time": "2023-10-12T11:27:47.468Z"
   },
   {
    "duration": 269,
    "start_time": "2023-10-12T11:27:47.533Z"
   },
   {
    "duration": 222,
    "start_time": "2023-10-12T11:27:47.804Z"
   },
   {
    "duration": 2397,
    "start_time": "2023-10-12T11:27:48.028Z"
   },
   {
    "duration": 441,
    "start_time": "2023-10-12T11:27:50.428Z"
   },
   {
    "duration": 509,
    "start_time": "2023-10-12T11:27:50.924Z"
   },
   {
    "duration": 15,
    "start_time": "2023-10-12T11:27:51.435Z"
   },
   {
    "duration": 417,
    "start_time": "2023-10-12T11:27:51.452Z"
   },
   {
    "duration": 195,
    "start_time": "2023-10-12T11:27:51.873Z"
   },
   {
    "duration": 268,
    "start_time": "2023-10-12T11:27:52.070Z"
   },
   {
    "duration": 1794,
    "start_time": "2023-10-12T11:27:52.340Z"
   },
   {
    "duration": 3,
    "start_time": "2023-10-12T11:27:54.136Z"
   },
   {
    "duration": 234,
    "start_time": "2023-10-12T11:27:54.140Z"
   },
   {
    "duration": 427,
    "start_time": "2023-10-12T11:27:54.375Z"
   },
   {
    "duration": 141,
    "start_time": "2023-10-12T11:27:54.804Z"
   },
   {
    "duration": 54,
    "start_time": "2023-10-12T11:27:54.947Z"
   },
   {
    "duration": 164,
    "start_time": "2023-10-12T11:27:55.003Z"
   },
   {
    "duration": 8,
    "start_time": "2023-10-12T11:27:55.169Z"
   },
   {
    "duration": 155,
    "start_time": "2023-10-12T11:27:55.179Z"
   },
   {
    "duration": 39,
    "start_time": "2023-10-12T11:27:55.336Z"
   },
   {
    "duration": 50,
    "start_time": "2023-10-12T11:27:55.378Z"
   },
   {
    "duration": 18,
    "start_time": "2023-10-12T11:31:14.602Z"
   },
   {
    "duration": 97,
    "start_time": "2023-10-12T11:32:45.597Z"
   },
   {
    "duration": 5,
    "start_time": "2023-10-12T11:33:23.601Z"
   },
   {
    "duration": 6,
    "start_time": "2023-10-12T11:33:32.352Z"
   },
   {
    "duration": 7,
    "start_time": "2023-10-12T11:33:41.156Z"
   },
   {
    "duration": 52,
    "start_time": "2023-10-12T12:07:40.747Z"
   },
   {
    "duration": 1444,
    "start_time": "2023-10-12T12:07:52.372Z"
   },
   {
    "duration": 118,
    "start_time": "2023-10-12T12:07:53.818Z"
   },
   {
    "duration": 183,
    "start_time": "2023-10-12T12:07:53.939Z"
   },
   {
    "duration": 66,
    "start_time": "2023-10-12T12:07:54.124Z"
   },
   {
    "duration": 13,
    "start_time": "2023-10-12T12:07:54.192Z"
   },
   {
    "duration": 17,
    "start_time": "2023-10-12T12:07:54.206Z"
   },
   {
    "duration": 22,
    "start_time": "2023-10-12T12:07:54.225Z"
   },
   {
    "duration": 11,
    "start_time": "2023-10-12T12:07:54.249Z"
   },
   {
    "duration": 20,
    "start_time": "2023-10-12T12:07:54.262Z"
   },
   {
    "duration": 13,
    "start_time": "2023-10-12T12:07:54.285Z"
   },
   {
    "duration": 8,
    "start_time": "2023-10-12T12:07:54.300Z"
   },
   {
    "duration": 11,
    "start_time": "2023-10-12T12:07:54.310Z"
   },
   {
    "duration": 9,
    "start_time": "2023-10-12T12:07:54.322Z"
   },
   {
    "duration": 16,
    "start_time": "2023-10-12T12:07:54.333Z"
   },
   {
    "duration": 5,
    "start_time": "2023-10-12T12:07:54.357Z"
   },
   {
    "duration": 13,
    "start_time": "2023-10-12T12:07:54.364Z"
   },
   {
    "duration": 8,
    "start_time": "2023-10-12T12:07:54.378Z"
   },
   {
    "duration": 19,
    "start_time": "2023-10-12T12:07:54.388Z"
   },
   {
    "duration": 188,
    "start_time": "2023-10-12T12:07:54.409Z"
   },
   {
    "duration": 6,
    "start_time": "2023-10-12T12:07:54.598Z"
   },
   {
    "duration": 110,
    "start_time": "2023-10-12T12:07:54.606Z"
   },
   {
    "duration": 5,
    "start_time": "2023-10-12T12:07:54.718Z"
   },
   {
    "duration": 183,
    "start_time": "2023-10-12T12:07:54.725Z"
   },
   {
    "duration": 11,
    "start_time": "2023-10-12T12:07:54.910Z"
   },
   {
    "duration": 26,
    "start_time": "2023-10-12T12:07:54.922Z"
   },
   {
    "duration": 12,
    "start_time": "2023-10-12T12:07:54.950Z"
   },
   {
    "duration": 27,
    "start_time": "2023-10-12T12:07:54.964Z"
   },
   {
    "duration": 206,
    "start_time": "2023-10-12T12:07:54.994Z"
   },
   {
    "duration": 8,
    "start_time": "2023-10-12T12:07:55.202Z"
   },
   {
    "duration": 19,
    "start_time": "2023-10-12T12:07:55.212Z"
   },
   {
    "duration": 18,
    "start_time": "2023-10-12T12:07:55.233Z"
   },
   {
    "duration": 213,
    "start_time": "2023-10-12T12:07:55.255Z"
   },
   {
    "duration": 12,
    "start_time": "2023-10-12T12:07:55.469Z"
   },
   {
    "duration": 24,
    "start_time": "2023-10-12T12:07:55.483Z"
   },
   {
    "duration": 12,
    "start_time": "2023-10-12T12:07:55.509Z"
   },
   {
    "duration": 54,
    "start_time": "2023-10-12T12:07:55.523Z"
   },
   {
    "duration": 229,
    "start_time": "2023-10-12T12:07:55.580Z"
   },
   {
    "duration": 294,
    "start_time": "2023-10-12T12:07:55.810Z"
   },
   {
    "duration": 17,
    "start_time": "2023-10-12T12:07:56.106Z"
   },
   {
    "duration": 225,
    "start_time": "2023-10-12T12:07:56.125Z"
   },
   {
    "duration": 195,
    "start_time": "2023-10-12T12:07:56.352Z"
   },
   {
    "duration": 13,
    "start_time": "2023-10-12T12:07:56.556Z"
   },
   {
    "duration": 19,
    "start_time": "2023-10-12T12:07:56.571Z"
   },
   {
    "duration": 919,
    "start_time": "2023-10-12T12:07:56.592Z"
   },
   {
    "duration": 3,
    "start_time": "2023-10-12T12:07:57.513Z"
   },
   {
    "duration": 18,
    "start_time": "2023-10-12T12:07:57.518Z"
   },
   {
    "duration": 23,
    "start_time": "2023-10-12T12:07:57.538Z"
   },
   {
    "duration": 27,
    "start_time": "2023-10-12T12:07:57.563Z"
   },
   {
    "duration": 7,
    "start_time": "2023-10-12T12:07:57.592Z"
   },
   {
    "duration": 147,
    "start_time": "2023-10-12T12:07:57.601Z"
   },
   {
    "duration": 8,
    "start_time": "2023-10-12T12:07:57.750Z"
   },
   {
    "duration": 31,
    "start_time": "2023-10-12T12:07:57.760Z"
   },
   {
    "duration": 25,
    "start_time": "2023-10-12T12:07:57.793Z"
   },
   {
    "duration": 26,
    "start_time": "2023-10-12T12:07:57.820Z"
   },
   {
    "duration": 6,
    "start_time": "2023-10-12T12:11:50.761Z"
   },
   {
    "duration": 6,
    "start_time": "2023-10-12T12:14:11.064Z"
   },
   {
    "duration": 6,
    "start_time": "2023-10-12T12:14:15.394Z"
   },
   {
    "duration": 6,
    "start_time": "2023-10-12T12:14:20.061Z"
   },
   {
    "duration": 48,
    "start_time": "2023-10-13T08:58:30.841Z"
   },
   {
    "duration": 1357,
    "start_time": "2023-10-13T08:58:50.641Z"
   },
   {
    "duration": 113,
    "start_time": "2023-10-13T08:58:52.000Z"
   },
   {
    "duration": 92,
    "start_time": "2023-10-13T08:58:52.115Z"
   },
   {
    "duration": 75,
    "start_time": "2023-10-13T08:58:52.209Z"
   },
   {
    "duration": 11,
    "start_time": "2023-10-13T08:58:52.286Z"
   },
   {
    "duration": 21,
    "start_time": "2023-10-13T08:58:52.298Z"
   },
   {
    "duration": 21,
    "start_time": "2023-10-13T08:58:52.321Z"
   },
   {
    "duration": 19,
    "start_time": "2023-10-13T08:58:52.343Z"
   },
   {
    "duration": 20,
    "start_time": "2023-10-13T08:58:52.363Z"
   },
   {
    "duration": 17,
    "start_time": "2023-10-13T08:58:52.385Z"
   },
   {
    "duration": 7,
    "start_time": "2023-10-13T08:58:52.404Z"
   },
   {
    "duration": 16,
    "start_time": "2023-10-13T08:58:52.412Z"
   },
   {
    "duration": 16,
    "start_time": "2023-10-13T08:58:52.430Z"
   },
   {
    "duration": 34,
    "start_time": "2023-10-13T08:58:52.447Z"
   },
   {
    "duration": 8,
    "start_time": "2023-10-13T08:58:52.483Z"
   },
   {
    "duration": 22,
    "start_time": "2023-10-13T08:58:52.493Z"
   },
   {
    "duration": 15,
    "start_time": "2023-10-13T08:58:52.517Z"
   },
   {
    "duration": 8,
    "start_time": "2023-10-13T08:58:52.533Z"
   },
   {
    "duration": 153,
    "start_time": "2023-10-13T08:58:52.543Z"
   },
   {
    "duration": 130,
    "start_time": "2023-10-13T08:58:52.698Z"
   },
   {
    "duration": 5,
    "start_time": "2023-10-13T08:58:52.830Z"
   },
   {
    "duration": 104,
    "start_time": "2023-10-13T08:58:52.844Z"
   },
   {
    "duration": 5,
    "start_time": "2023-10-13T08:58:52.950Z"
   },
   {
    "duration": 159,
    "start_time": "2023-10-13T08:58:52.956Z"
   },
   {
    "duration": 8,
    "start_time": "2023-10-13T08:58:53.117Z"
   },
   {
    "duration": 25,
    "start_time": "2023-10-13T08:58:53.127Z"
   },
   {
    "duration": 17,
    "start_time": "2023-10-13T08:58:53.153Z"
   },
   {
    "duration": 8,
    "start_time": "2023-10-13T08:58:53.174Z"
   },
   {
    "duration": 193,
    "start_time": "2023-10-13T08:58:53.183Z"
   },
   {
    "duration": 6,
    "start_time": "2023-10-13T08:58:53.378Z"
   },
   {
    "duration": 18,
    "start_time": "2023-10-13T08:58:53.386Z"
   },
   {
    "duration": 21,
    "start_time": "2023-10-13T08:58:53.405Z"
   },
   {
    "duration": 197,
    "start_time": "2023-10-13T08:58:53.427Z"
   },
   {
    "duration": 18,
    "start_time": "2023-10-13T08:58:53.626Z"
   },
   {
    "duration": 17,
    "start_time": "2023-10-13T08:58:53.645Z"
   },
   {
    "duration": 29,
    "start_time": "2023-10-13T08:58:53.664Z"
   },
   {
    "duration": 31,
    "start_time": "2023-10-13T08:58:53.694Z"
   },
   {
    "duration": 238,
    "start_time": "2023-10-13T08:58:53.727Z"
   },
   {
    "duration": 239,
    "start_time": "2023-10-13T08:58:53.967Z"
   },
   {
    "duration": 13,
    "start_time": "2023-10-13T08:58:54.208Z"
   },
   {
    "duration": 257,
    "start_time": "2023-10-13T08:58:54.223Z"
   },
   {
    "duration": 228,
    "start_time": "2023-10-13T08:58:54.483Z"
   },
   {
    "duration": 11,
    "start_time": "2023-10-13T08:58:54.713Z"
   },
   {
    "duration": 18,
    "start_time": "2023-10-13T08:58:54.726Z"
   },
   {
    "duration": 859,
    "start_time": "2023-10-13T08:58:54.745Z"
   },
   {
    "duration": 3,
    "start_time": "2023-10-13T08:58:55.606Z"
   },
   {
    "duration": 35,
    "start_time": "2023-10-13T08:58:55.610Z"
   },
   {
    "duration": 42,
    "start_time": "2023-10-13T08:58:55.647Z"
   },
   {
    "duration": 29,
    "start_time": "2023-10-13T08:58:55.690Z"
   },
   {
    "duration": 24,
    "start_time": "2023-10-13T08:58:55.721Z"
   },
   {
    "duration": 190,
    "start_time": "2023-10-13T08:58:55.746Z"
   },
   {
    "duration": 10,
    "start_time": "2023-10-13T08:58:55.937Z"
   },
   {
    "duration": 43,
    "start_time": "2023-10-13T08:58:55.949Z"
   },
   {
    "duration": 40,
    "start_time": "2023-10-13T08:58:55.994Z"
   },
   {
    "duration": 34,
    "start_time": "2023-10-13T08:58:56.036Z"
   },
   {
    "duration": 134,
    "start_time": "2023-10-13T08:59:09.204Z"
   },
   {
    "duration": 3,
    "start_time": "2023-10-13T09:08:38.335Z"
   },
   {
    "duration": 251,
    "start_time": "2023-10-13T09:10:04.282Z"
   },
   {
    "duration": 185,
    "start_time": "2023-10-13T09:10:13.775Z"
   },
   {
    "duration": 171,
    "start_time": "2023-10-13T09:10:47.036Z"
   },
   {
    "duration": 176,
    "start_time": "2023-10-13T09:11:17.384Z"
   },
   {
    "duration": 201,
    "start_time": "2023-10-13T09:11:52.395Z"
   },
   {
    "duration": 247,
    "start_time": "2023-10-13T09:12:05.413Z"
   },
   {
    "duration": 188,
    "start_time": "2023-10-13T09:13:24.772Z"
   },
   {
    "duration": 10,
    "start_time": "2023-10-13T09:23:05.322Z"
   },
   {
    "duration": 1208,
    "start_time": "2023-10-13T10:22:12.819Z"
   },
   {
    "duration": 55,
    "start_time": "2023-10-13T10:22:14.030Z"
   },
   {
    "duration": 49,
    "start_time": "2023-10-13T10:22:14.087Z"
   },
   {
    "duration": 25,
    "start_time": "2023-10-13T10:22:14.138Z"
   },
   {
    "duration": 43,
    "start_time": "2023-10-13T10:22:14.167Z"
   },
   {
    "duration": 40,
    "start_time": "2023-10-13T10:22:14.213Z"
   },
   {
    "duration": 24,
    "start_time": "2023-10-13T10:22:14.255Z"
   },
   {
    "duration": 47,
    "start_time": "2023-10-13T10:22:14.282Z"
   },
   {
    "duration": 21,
    "start_time": "2023-10-13T10:22:14.332Z"
   },
   {
    "duration": 35,
    "start_time": "2023-10-13T10:22:14.356Z"
   },
   {
    "duration": 13,
    "start_time": "2023-10-13T10:22:14.393Z"
   },
   {
    "duration": 42,
    "start_time": "2023-10-13T10:22:14.407Z"
   },
   {
    "duration": 18,
    "start_time": "2023-10-13T10:22:14.451Z"
   },
   {
    "duration": 32,
    "start_time": "2023-10-13T10:22:14.472Z"
   },
   {
    "duration": 17,
    "start_time": "2023-10-13T10:22:14.506Z"
   },
   {
    "duration": 36,
    "start_time": "2023-10-13T10:22:14.525Z"
   },
   {
    "duration": 24,
    "start_time": "2023-10-13T10:22:14.562Z"
   },
   {
    "duration": 14,
    "start_time": "2023-10-13T10:22:14.588Z"
   },
   {
    "duration": 174,
    "start_time": "2023-10-13T10:22:14.603Z"
   },
   {
    "duration": 158,
    "start_time": "2023-10-13T10:22:14.778Z"
   },
   {
    "duration": 144,
    "start_time": "2023-10-13T10:22:14.937Z"
   },
   {
    "duration": 301,
    "start_time": "2023-10-13T10:22:15.083Z"
   },
   {
    "duration": 4,
    "start_time": "2023-10-13T10:22:15.386Z"
   },
   {
    "duration": 192,
    "start_time": "2023-10-13T10:22:15.392Z"
   },
   {
    "duration": 9,
    "start_time": "2023-10-13T10:22:15.586Z"
   },
   {
    "duration": 32,
    "start_time": "2023-10-13T10:22:15.596Z"
   },
   {
    "duration": 32,
    "start_time": "2023-10-13T10:22:15.630Z"
   },
   {
    "duration": 33,
    "start_time": "2023-10-13T10:22:15.663Z"
   },
   {
    "duration": 228,
    "start_time": "2023-10-13T10:22:15.698Z"
   },
   {
    "duration": 8,
    "start_time": "2023-10-13T10:22:15.928Z"
   },
   {
    "duration": 32,
    "start_time": "2023-10-13T10:22:15.948Z"
   },
   {
    "duration": 21,
    "start_time": "2023-10-13T10:22:15.982Z"
   },
   {
    "duration": 230,
    "start_time": "2023-10-13T10:22:16.005Z"
   },
   {
    "duration": 16,
    "start_time": "2023-10-13T10:22:16.236Z"
   },
   {
    "duration": 38,
    "start_time": "2023-10-13T10:22:16.254Z"
   },
   {
    "duration": 32,
    "start_time": "2023-10-13T10:22:16.293Z"
   },
   {
    "duration": 12,
    "start_time": "2023-10-13T10:22:16.327Z"
   },
   {
    "duration": 30,
    "start_time": "2023-10-13T10:22:16.341Z"
   },
   {
    "duration": 218,
    "start_time": "2023-10-13T10:22:16.373Z"
   },
   {
    "duration": 259,
    "start_time": "2023-10-13T10:22:16.593Z"
   },
   {
    "duration": 15,
    "start_time": "2023-10-13T10:22:16.856Z"
   },
   {
    "duration": 232,
    "start_time": "2023-10-13T10:22:16.872Z"
   },
   {
    "duration": 193,
    "start_time": "2023-10-13T10:22:17.106Z"
   },
   {
    "duration": 184,
    "start_time": "2023-10-13T10:22:17.301Z"
   },
   {
    "duration": 191,
    "start_time": "2023-10-13T10:22:17.487Z"
   },
   {
    "duration": 13,
    "start_time": "2023-10-13T10:22:17.679Z"
   },
   {
    "duration": 11,
    "start_time": "2023-10-13T10:22:17.694Z"
   },
   {
    "duration": 914,
    "start_time": "2023-10-13T10:22:17.706Z"
   },
   {
    "duration": 3,
    "start_time": "2023-10-13T10:22:18.622Z"
   },
   {
    "duration": 24,
    "start_time": "2023-10-13T10:22:18.627Z"
   },
   {
    "duration": 36,
    "start_time": "2023-10-13T10:22:18.653Z"
   },
   {
    "duration": 48,
    "start_time": "2023-10-13T10:22:18.691Z"
   },
   {
    "duration": 67,
    "start_time": "2023-10-13T10:22:18.740Z"
   },
   {
    "duration": 208,
    "start_time": "2023-10-13T10:22:18.809Z"
   },
   {
    "duration": 10,
    "start_time": "2023-10-13T10:22:19.020Z"
   },
   {
    "duration": 27,
    "start_time": "2023-10-13T10:22:19.033Z"
   },
   {
    "duration": 14,
    "start_time": "2023-10-13T10:22:19.063Z"
   },
   {
    "duration": 40,
    "start_time": "2023-10-13T10:22:19.079Z"
   },
   {
    "duration": 54,
    "start_time": "2023-10-13T10:22:19.121Z"
   }
  ],
  "kernelspec": {
   "display_name": "Python 3 (ipykernel)",
   "language": "python",
   "name": "python3"
  },
  "language_info": {
   "codemirror_mode": {
    "name": "ipython",
    "version": 3
   },
   "file_extension": ".py",
   "mimetype": "text/x-python",
   "name": "python",
   "nbconvert_exporter": "python",
   "pygments_lexer": "ipython3",
   "version": "3.9.17"
  },
  "toc": {
   "base_numbering": 1,
   "nav_menu": {},
   "number_sections": true,
   "sideBar": true,
   "skip_h1_title": true,
   "title_cell": "Table of Contents",
   "title_sidebar": "Contents",
   "toc_cell": false,
   "toc_position": {},
   "toc_section_display": true,
   "toc_window_display": false
  }
 },
 "nbformat": 4,
 "nbformat_minor": 5
}
